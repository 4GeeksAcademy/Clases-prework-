{
    "cells": [
        {
            "cell_type": "markdown",
            "metadata": {},
            "source": [
                "# Clase 2 del prework"
            ]
        },
        {
            "cell_type": "code",
            "execution_count": 2,
            "metadata": {},
            "outputs": [
                {
                    "name": "stdout",
                    "output_type": "stream",
                    "text": [
                        "hello\n"
                    ]
                }
            ],
            "source": [
                "print(\"hello\")"
            ]
        },
        {
            "cell_type": "markdown",
            "metadata": {},
            "source": [
                "¿Qué es una lista? ¿Cómo la declaro?\n",
                "Lista: Es una colección ordenada y mutable de elementos, que pueden ser de cualquier tipo de dato (números, cadenas, objetos, etc.). A diferencia de otros lenguajes, en Python las listas permiten almacenar diferentes tipos de datos dentro de la misma colección."
            ]
        },
        {
            "cell_type": "code",
            "execution_count": 2,
            "metadata": {},
            "outputs": [],
            "source": [
                "# Lista vacía\n",
                "mi_lista = []\n",
                "\n",
                "# Lista con elementos\n",
                "mi_lista = [1, 2, 3, \"texto\", 5.6]"
            ]
        },
        {
            "cell_type": "markdown",
            "metadata": {},
            "source": [
                "Puedes acceder a los elementos de una lista mediante índices. En Python, los índices empiezan desde 0."
            ]
        },
        {
            "cell_type": "code",
            "execution_count": 3,
            "metadata": {},
            "outputs": [
                {
                    "name": "stdout",
                    "output_type": "stream",
                    "text": [
                        "10\n",
                        "30\n"
                    ]
                }
            ],
            "source": [
                "mi_lista = [10, 20, 30, 40, 50]\n",
                "\n",
                "# Acceder al primer elemento (índice 0)\n",
                "print(mi_lista[0])  \n",
                "\n",
                "# Acceder al tercer elemento (índice 2)\n",
                "print(mi_lista[2])  "
            ]
        },
        {
            "cell_type": "markdown",
            "metadata": {},
            "source": [
                "Índices negativos: En Python, los índices negativos te permiten acceder a los elementos desde el final de la lista."
            ]
        },
        {
            "cell_type": "code",
            "execution_count": 5,
            "metadata": {},
            "outputs": [
                {
                    "name": "stdout",
                    "output_type": "stream",
                    "text": [
                        "50\n",
                        "40\n"
                    ]
                }
            ],
            "source": [
                "mi_lista = [10, 20, 30, 40, 50]\n",
                "\n",
                "# Acceder al último elemento (índice -1)\n",
                "print(mi_lista[-1])  \n",
                "\n",
                "# Acceder al penúltimo elemento (índice -2)\n",
                "print(mi_lista[-2])"
            ]
        },
        {
            "cell_type": "markdown",
            "metadata": {},
            "source": [
                "## Métodos más importantes para listas"
            ]
        },
        {
            "cell_type": "markdown",
            "metadata": {},
            "source": [
                "append(): Agrega un solo elemento al final de la lista."
            ]
        },
        {
            "cell_type": "code",
            "execution_count": 3,
            "metadata": {},
            "outputs": [
                {
                    "name": "stdout",
                    "output_type": "stream",
                    "text": [
                        "[1, 2, 3, 4]\n"
                    ]
                }
            ],
            "source": [
                "mi_lista = [1, 2, 3]\n",
                "mi_lista.append(4)\n",
                "print(mi_lista)"
            ]
        },
        {
            "cell_type": "markdown",
            "metadata": {},
            "source": [
                "extend(): Agrega varios elementos a la lista"
            ]
        },
        {
            "cell_type": "code",
            "execution_count": 4,
            "metadata": {},
            "outputs": [
                {
                    "name": "stdout",
                    "output_type": "stream",
                    "text": [
                        "[1, 2, 3, 4, 5, 6]\n"
                    ]
                }
            ],
            "source": [
                "mi_lista.extend([5, 6])\n",
                "print(mi_lista)  "
            ]
        },
        {
            "cell_type": "markdown",
            "metadata": {},
            "source": [
                "### Eliminar elementos de la lista"
            ]
        },
        {
            "cell_type": "markdown",
            "metadata": {},
            "source": [
                "pop(): Elimina y devuelve el último elemento de la lista (o el de un índice específico)."
            ]
        },
        {
            "cell_type": "code",
            "execution_count": 8,
            "metadata": {},
            "outputs": [
                {
                    "name": "stdout",
                    "output_type": "stream",
                    "text": [
                        "4\n",
                        "[1, 2]\n"
                    ]
                }
            ],
            "source": [
                "elemento = mi_lista.pop()\n",
                "print(elemento)  \n",
                "print(mi_lista) "
            ]
        },
        {
            "cell_type": "markdown",
            "metadata": {},
            "source": [
                "remove(): Elimina la primera aparición de un elemento específico."
            ]
        },
        {
            "cell_type": "code",
            "execution_count": 11,
            "metadata": {},
            "outputs": [
                {
                    "name": "stdout",
                    "output_type": "stream",
                    "text": [
                        "[1, 2, 4, 5, 6]\n"
                    ]
                }
            ],
            "source": [
                "mi_lista = [1, 2, 3, 4, 5, 6]\n",
                "\n",
                "mi_lista.remove(3)\n",
                "print(mi_lista)  "
            ]
        },
        {
            "cell_type": "markdown",
            "metadata": {},
            "source": [
                "del: Elimina un elemento en un índice específico o toda la lista."
            ]
        },
        {
            "cell_type": "code",
            "execution_count": 12,
            "metadata": {},
            "outputs": [
                {
                    "name": "stdout",
                    "output_type": "stream",
                    "text": [
                        "[1, 4, 5, 6]\n"
                    ]
                }
            ],
            "source": [
                "\n",
                "del mi_lista[1]  # Elimina el segundo elemento\n",
                "print(mi_lista)"
            ]
        },
        {
            "cell_type": "markdown",
            "metadata": {},
            "source": [
                "### Otros métodos útiles"
            ]
        },
        {
            "cell_type": "markdown",
            "metadata": {},
            "source": [
                "len(): Devuelve la longitud de la lista."
            ]
        },
        {
            "cell_type": "code",
            "execution_count": 13,
            "metadata": {},
            "outputs": [],
            "source": [
                "mi_lista = [1, 2, 3, 4, 5, 6]\n"
            ]
        },
        {
            "cell_type": "code",
            "execution_count": 14,
            "metadata": {},
            "outputs": [
                {
                    "name": "stdout",
                    "output_type": "stream",
                    "text": [
                        "6\n"
                    ]
                }
            ],
            "source": [
                "print(len(mi_lista))"
            ]
        },
        {
            "cell_type": "markdown",
            "metadata": {},
            "source": [
                "index(): Devuelve el índice del primer elemento coincidente."
            ]
        },
        {
            "cell_type": "code",
            "execution_count": 15,
            "metadata": {},
            "outputs": [
                {
                    "name": "stdout",
                    "output_type": "stream",
                    "text": [
                        "3\n"
                    ]
                }
            ],
            "source": [
                "print(mi_lista.index(4)) "
            ]
        },
        {
            "cell_type": "markdown",
            "metadata": {},
            "source": [
                "count(): Cuenta cuántas veces aparece un elemento en la lista"
            ]
        },
        {
            "cell_type": "code",
            "execution_count": 16,
            "metadata": {},
            "outputs": [
                {
                    "name": "stdout",
                    "output_type": "stream",
                    "text": [
                        "1\n"
                    ]
                }
            ],
            "source": [
                "mi_lista = [1, 2, 3, 4, 5, 6]\n",
                "\n",
                "print(mi_lista.count(4))"
            ]
        },
        {
            "cell_type": "markdown",
            "metadata": {},
            "source": [
                "sort(): Ordena los elementos de la lista."
            ]
        },
        {
            "cell_type": "code",
            "execution_count": 35,
            "metadata": {},
            "outputs": [
                {
                    "name": "stdout",
                    "output_type": "stream",
                    "text": [
                        "[1, 2, 3, 4]\n"
                    ]
                }
            ],
            "source": [
                "mi_lista = [3, 1, 4, 2]\n",
                "mi_lista.sort()\n",
                "print(mi_lista)"
            ]
        },
        {
            "cell_type": "markdown",
            "metadata": {},
            "source": [
                "reverse(): Invierte el orden de los elementos."
            ]
        },
        {
            "cell_type": "code",
            "execution_count": 20,
            "metadata": {},
            "outputs": [
                {
                    "name": "stdout",
                    "output_type": "stream",
                    "text": [
                        "[4, 3, 2, 1]\n"
                    ]
                }
            ],
            "source": [
                "mi_lista.reverse()\n",
                "print(mi_lista)"
            ]
        },
        {
            "cell_type": "markdown",
            "metadata": {},
            "source": [
                "slice(): Devuelve una porción de la lista (sublista)."
            ]
        },
        {
            "cell_type": "code",
            "execution_count": 21,
            "metadata": {},
            "outputs": [
                {
                    "name": "stdout",
                    "output_type": "stream",
                    "text": [
                        "[3, 2]\n"
                    ]
                }
            ],
            "source": [
                "sub_lista = mi_lista[1:3]  # Elementos en los índices 1 y 2\n",
                "print(sub_lista)  "
            ]
        },
        {
            "cell_type": "markdown",
            "metadata": {},
            "source": [
                "### Listas anidadas"
            ]
        },
        {
            "cell_type": "code",
            "execution_count": 34,
            "metadata": {},
            "outputs": [
                {
                    "name": "stdout",
                    "output_type": "stream",
                    "text": [
                        "3\n",
                        "6\n"
                    ]
                }
            ],
            "source": [
                "lista_anidada = [[1, 2], [3, 4], [5, 6], [7, 8]]\n",
                "\n",
                "# Acceder al primer subelemento de la segunda lista\n",
                "print(lista_anidada[1][0])\n",
                "print(lista_anidada[2][1])"
            ]
        },
        {
            "cell_type": "markdown",
            "metadata": {},
            "source": [
                "###  Iteración sobre listas (loop)"
            ]
        },
        {
            "cell_type": "code",
            "execution_count": 23,
            "metadata": {},
            "outputs": [
                {
                    "name": "stdout",
                    "output_type": "stream",
                    "text": [
                        "10\n",
                        "20\n",
                        "30\n",
                        "40\n"
                    ]
                }
            ],
            "source": [
                "mi_lista = [10, 20, 30, 40]\n",
                "\n",
                "for elemento in mi_lista:\n",
                "    print(elemento)"
            ]
        },
        {
            "cell_type": "markdown",
            "metadata": {},
            "source": [
                "Usamos la función enumerate() para acceder al índice y al valor de cada elemento."
            ]
        },
        {
            "cell_type": "code",
            "execution_count": 24,
            "metadata": {},
            "outputs": [
                {
                    "name": "stdout",
                    "output_type": "stream",
                    "text": [
                        "Índice: 0, Valor: a\n",
                        "Índice: 1, Valor: b\n",
                        "Índice: 2, Valor: c\n",
                        "Índice: 3, Valor: d\n"
                    ]
                }
            ],
            "source": [
                "mi_lista = ['a', 'b', 'c', 'd']\n",
                "\n",
                "for indice, valor in enumerate(mi_lista):\n",
                "    print(f\"Índice: {indice}, Valor: {valor}\")\n"
            ]
        },
        {
            "cell_type": "code",
            "execution_count": 26,
            "metadata": {},
            "outputs": [
                {
                    "name": "stdout",
                    "output_type": "stream",
                    "text": [
                        "Mi nombre es Fernando\n"
                    ]
                }
            ],
            "source": [
                "nombre = \"Fernando\"\n",
                "print(f\"Mi nombre es {nombre}\")"
            ]
        },
        {
            "cell_type": "markdown",
            "metadata": {},
            "source": [
                "Este ejemplo utiliza un bucle for para sumar los elementos de una lista de números."
            ]
        },
        {
            "cell_type": "code",
            "execution_count": 29,
            "metadata": {},
            "outputs": [
                {
                    "name": "stdout",
                    "output_type": "stream",
                    "text": [
                        "La suma total es: 15\n"
                    ]
                }
            ],
            "source": [
                "numeros = [1, 2, 3, 4, 5]\n",
                "suma = 0\n",
                "\n",
                "for numero in numeros:\n",
                "    suma += numero\n",
                "\n",
                "print(f\"La suma total es: {suma}\")"
            ]
        },
        {
            "cell_type": "markdown",
            "metadata": {},
            "source": [
                "Aquí iteramos sobre una lista que contiene otras listas. Usamos un bucle anidado para acceder a cada elemento."
            ]
        },
        {
            "cell_type": "code",
            "execution_count": 37,
            "metadata": {},
            "outputs": [
                {
                    "name": "stdout",
                    "output_type": "stream",
                    "text": [
                        "[1, 2]\n",
                        "[1, 2]\n",
                        "[1, 2]\n",
                        "[1, 2]\n",
                        "[1, 2]\n",
                        "[1, 2]\n"
                    ]
                }
            ],
            "source": [
                "lista_anidada = [[1, 2], [3, 4], [5, 6]]\n",
                "\n",
                "for sub_lista in lista_anidada:\n",
                "    for elemento in sub_lista:\n",
                "        print(lista_anidada[0])"
            ]
        },
        {
            "cell_type": "markdown",
            "metadata": {},
            "source": [
                "Este ejemplo recorre una lista de números y crea una nueva lista solo con los números pares.\n",
                "\n"
            ]
        },
        {
            "cell_type": "code",
            "execution_count": 33,
            "metadata": {},
            "outputs": [
                {
                    "name": "stdout",
                    "output_type": "stream",
                    "text": [
                        "Números pares: [15, 25]\n"
                    ]
                }
            ],
            "source": [
                "numeros = [10, 15, 20, 25, 30]\n",
                "pares = []\n",
                "\n",
                "for numero in numeros:\n",
                "    if numero % 2 != 0:\n",
                "        pares.append(numero)\n",
                "\n",
                "print(f\"Números pares: {impares}\")"
            ]
        },
        {
            "cell_type": "code",
            "execution_count": null,
            "metadata": {},
            "outputs": [],
            "source": [
                "numeros = [10, 15 , 20, 25, 30]\n",
                "pares = []\n",
                "impares = []\n",
                "numeroloco = []\n",
                "\n",
                "for numero in numeros:\n",
                "    if numero % 2 == 0: #si es divisible entre dos e igual a cero\n",
                "      pares.append(numero)\n",
                "    elif numero % 2 != 0:\n",
                "      impares.append()\n",
                "    else:\n",
                "       numeroloco.append()\n",
                "      \n",
                "print(f'Números pares: {pares} y números impares: {impares}')"
            ]
        },
        {
            "cell_type": "markdown",
            "metadata": {},
            "source": [
                "# Clase 3 del prework"
            ]
        },
        {
            "cell_type": "markdown",
            "metadata": {},
            "source": [
                "### ¿Qué son las funciones?\n",
                "\n",
                "Una función en Python es un bloque de código reutilizable que realiza una tarea específica. Las funciones permiten organizar el código de manera modular y reutilizable. Ayudan a reducir la redundancia y mejorar la legibilidad.\n",
                "\n",
                "La declaración de una función en Python utiliza la palabra clave def. La estructura básica es la siguiente:"
            ]
        },
        {
            "cell_type": "code",
            "execution_count": null,
            "metadata": {},
            "outputs": [],
            "source": [
                "def nombre_funcion(parámetros):\n",
                "    # Bloque de código\n",
                "    return valor"
            ]
        },
        {
            "cell_type": "code",
            "execution_count": 1,
            "metadata": {},
            "outputs": [
                {
                    "name": "stdout",
                    "output_type": "stream",
                    "text": [
                        "¡Hola Ana Belén, bienvenidos a la clase de funciones!\n"
                    ]
                }
            ],
            "source": [
                "nombre = \"Ana Belén\"\n",
                "\n",
                "def saludar():\n",
                "    print(f\"¡Hola {nombre}, bienvenidos a la clase de funciones!\")\n",
                "    \n",
                "saludar()  # Llamada a la función"
            ]
        },
        {
            "cell_type": "markdown",
            "metadata": {},
            "source": [
                "## Diferencia entre parámetros y argumentos:\n",
                "\n",
                "Parámetros: Son los nombres definidos en la declaración de la función.\n",
                "\n",
                "Argumentos: Son los valores que se pasan a la función cuando se llama.\n",
                "\n",
                "Ejemplo:"
            ]
        },
        {
            "cell_type": "code",
            "execution_count": 2,
            "metadata": {},
            "outputs": [
                {
                    "name": "stdout",
                    "output_type": "stream",
                    "text": [
                        "¡Hola, Ana!\n"
                    ]
                }
            ],
            "source": [
                "def saludar(nombre):  # 'nombre' es el parámetro\n",
                "    print(f\"¡Hola, {nombre}!\")\n",
                "    \n",
                "saludar(\"Ana\")  # 'Ana' es el argumento"
            ]
        },
        {
            "cell_type": "markdown",
            "metadata": {},
            "source": [
                "## Retorno de Valores\n",
                "\n",
                "El return permite a una función devolver un valor después de su ejecución. \n",
                "Esto es útil cuando necesitamos usar el resultado de una función en otros cálculos.\n",
                "\n",
                "Ejemplo:"
            ]
        },
        {
            "cell_type": "code",
            "execution_count": 4,
            "metadata": {},
            "outputs": [
                {
                    "data": {
                        "text/plain": [
                            "8"
                        ]
                    },
                    "execution_count": 4,
                    "metadata": {},
                    "output_type": "execute_result"
                }
            ],
            "source": [
                "def suma(a, b):\n",
                "    return a + b  # La función devuelve la suma de a y b\n",
                "\n",
                "suma(3, 5)\n"
            ]
        },
        {
            "cell_type": "markdown",
            "metadata": {},
            "source": [
                "## Alcance de las Variables (Scope)\n",
                "\n",
                "El alcance de las variables se refiere a qué partes del código pueden acceder a una variable.\n",
                "\n",
                "Variables locales: Definidas dentro de una función, solo accesibles dentro de esa función.\n",
                "\n",
                "Variables globales: Definidas fuera de las funciones, accesibles en todo el código.\n",
                "\n",
                "Ejemplo:"
            ]
        },
        {
            "cell_type": "code",
            "execution_count": 7,
            "metadata": {},
            "outputs": [
                {
                    "name": "stdout",
                    "output_type": "stream",
                    "text": [
                        "Variable local: 5\n",
                        "Variable global: 10\n"
                    ]
                }
            ],
            "source": [
                "x = 10  # Variable global\n",
                "\n",
                "def ejemplo_scope():\n",
                "    x = 5  # Variable local\n",
                "    print(f\"Variable local: {x}\")\n",
                "\n",
                "ejemplo_scope()  \n",
                "print(f\"Variable global: {x}\") "
            ]
        },
        {
            "cell_type": "markdown",
            "metadata": {},
            "source": [
                "## Funciones Anidadas\n",
                "\n",
                "Una función anidada es una función definida dentro de otra función.\n",
                "\n",
                "Las funciones anidadas pueden acceder a las variables de la función externa.\n",
                "\n",
                "Ejemplo:"
            ]
        },
        {
            "cell_type": "code",
            "execution_count": 10,
            "metadata": {},
            "outputs": [
                {
                    "name": "stdout",
                    "output_type": "stream",
                    "text": [
                        "Hola desde la función externa\n"
                    ]
                }
            ],
            "source": [
                "def funcion_externa():\n",
                "    mensaje = \"Hola desde la función externa\"\n",
                "\n",
                "    def funcion_interna():\n",
                "        print(mensaje)  # Accediendo a la variable de la función externa\n",
                "\n",
                "    funcion_interna()\n",
                "\n",
                "funcion_externa()"
            ]
        },
        {
            "cell_type": "markdown",
            "metadata": {},
            "source": [
                "## Funciones Anónimas (lambda)\n",
                "\n",
                "Las funciones lambda son funciones pequeñas y anónimas que no necesitan un nombre explícito.\n",
                "Se utilizan cuando solo se necesita una función sencilla y rápida.\n",
                "\n",
                "La sintaxis de una función lambda es:"
            ]
        },
        {
            "cell_type": "code",
            "execution_count": 11,
            "metadata": {},
            "outputs": [
                {
                    "name": "stdout",
                    "output_type": "stream",
                    "text": [
                        "8\n"
                    ]
                }
            ],
            "source": [
                "lambda argumentos: expresión\n",
                "\n",
                "# Ejemplo 1\n",
                "\n",
                "doble = lambda x: x * 2\n",
                "print(doble(4))  "
            ]
        },
        {
            "cell_type": "code",
            "execution_count": 14,
            "metadata": {},
            "outputs": [
                {
                    "name": "stdout",
                    "output_type": "stream",
                    "text": [
                        "8\n"
                    ]
                }
            ],
            "source": [
                "# Ejemplo 2\n",
                "\n",
                "suma = lambda x, y: x + y\n",
                "print(suma(3, 5))  "
            ]
        },
        {
            "cell_type": "markdown",
            "metadata": {},
            "source": [
                "Análogo con def del ejemplo 2"
            ]
        },
        {
            "cell_type": "code",
            "execution_count": 13,
            "metadata": {},
            "outputs": [
                {
                    "name": "stdout",
                    "output_type": "stream",
                    "text": [
                        "8\n"
                    ]
                }
            ],
            "source": [
                "def suma(x, y):\n",
                "    return x + y\n",
                "\n",
                "print(suma(3, 5)) "
            ]
        },
        {
            "cell_type": "code",
            "execution_count": 15,
            "metadata": {},
            "outputs": [
                {
                    "name": "stdout",
                    "output_type": "stream",
                    "text": [
                        "[2, 3, 5, 7, 11, 13, 17, 19, 23, 29]\n"
                    ]
                }
            ],
            "source": [
                "# Ejempl0 3\n",
                "\n",
                "numeros = list(range(2, 30))\n",
                "es_primo = lambda x: all(x % i != 0 for i in range(2, int(x**0.5) + 1))\n",
                "\n",
                "primos = list(filter(es_primo, numeros))\n",
                "print(primos)  # Salida: [2, 3, 5, 7, 11, 13, 17, 19, 23, 29]\n"
            ]
        },
        {
            "cell_type": "markdown",
            "metadata": {},
            "source": [
                "Explicación:\n",
                "La función lambda toma un número x y utiliza una comprensión de listas para verificar si el número es divisible por algún número i desde 2 hasta la raíz cuadrada de x.\n",
                "\n",
                "Si el número no es divisible por ningún i, se considera primo.\n",
                "\n",
                "La función filter aplica la lambda a cada número en la lista numeros, devolviendo solo aquellos que cumplen la condición de ser primos."
            ]
        },
        {
            "cell_type": "markdown",
            "metadata": {},
            "source": [
                "## Funciones Recursivas\n",
                "\n",
                "Una función recursiva es una función que se llama a sí misma durante su ejecución. \n",
                "\n",
                "Esto permite que un problema grande sea dividido en subproblemas más pequeños y más manejables. \n",
                "\n",
                "Las funciones recursivas son útiles para resolver problemas que pueden definirse en términos de versiones más pequeñas de sí mismos."
            ]
        },
        {
            "cell_type": "code",
            "execution_count": 21,
            "metadata": {},
            "outputs": [
                {
                    "name": "stdout",
                    "output_type": "stream",
                    "text": [
                        "15\n"
                    ]
                }
            ],
            "source": [
                "def suma_natural(n):\n",
                "    if n == 0:  # Caso base\n",
                "        return 0\n",
                "    else:\n",
                "        return n + suma_natural(n - 1)  # Llamada recursiva\n",
                "\n",
                "print(suma_natural(5))  # Salida: 15 (5 + 4 + 3 + 2 + 1 + 0)"
            ]
        },
        {
            "cell_type": "markdown",
            "metadata": {},
            "source": [
                "Caso base: Cuando n == 0, devolvemos 0. Esto detiene la recursión.\n",
                "\n",
                "Llamada recursiva: Se llama a la función suma_natural(n - 1), que suma n con el resultado de la suma de los números anteriores."
            ]
        },
        {
            "cell_type": "markdown",
            "metadata": {},
            "source": [
                "Las funciones recursivas pueden ser ineficientes en términos de memoria y velocidad, ya que requieren almacenar muchas llamadas en la pila de ejecución."
            ]
        }
    ],
    "metadata": {
        "kernelspec": {
            "display_name": "Python 3.8.13 64-bit ('3.8.13')",
            "language": "python",
            "name": "python3"
        },
        "language_info": {
            "codemirror_mode": {
                "name": "ipython",
                "version": 3
            },
            "file_extension": ".py",
            "mimetype": "text/x-python",
            "name": "python",
            "nbconvert_exporter": "python",
            "pygments_lexer": "ipython3",
            "version": "3.11.4"
        },
        "orig_nbformat": 4,
        "vscode": {
            "interpreter": {
                "hash": "110cc1dee26208153f2972f08a2ad52b6a56238dc66d48e87fb757ef2996db56"
            }
        }
    },
    "nbformat": 4,
    "nbformat_minor": 2
}
