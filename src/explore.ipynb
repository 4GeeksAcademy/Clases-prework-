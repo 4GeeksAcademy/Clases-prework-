{
    "cells": [
        {
            "cell_type": "markdown",
            "metadata": {},
            "source": [
                "# Clase 2 del prework"
            ]
        },
        {
            "cell_type": "code",
            "execution_count": 2,
            "metadata": {},
            "outputs": [
                {
                    "name": "stdout",
                    "output_type": "stream",
                    "text": [
                        "hello\n"
                    ]
                }
            ],
            "source": [
                "print(\"hello\")"
            ]
        },
        {
            "cell_type": "markdown",
            "metadata": {},
            "source": [
                "¿Qué es una lista? ¿Cómo la declaro?\n",
                "Lista: Es una colección ordenada y mutable de elementos, que pueden ser de cualquier tipo de dato (números, cadenas, objetos, etc.). A diferencia de otros lenguajes, en Python las listas permiten almacenar diferentes tipos de datos dentro de la misma colección."
            ]
        },
        {
            "cell_type": "code",
            "execution_count": 2,
            "metadata": {},
            "outputs": [],
            "source": [
                "# Lista vacía\n",
                "mi_lista = []\n",
                "\n",
                "# Lista con elementos\n",
                "mi_lista = [1, 2, 3, \"texto\", 5.6]"
            ]
        },
        {
            "cell_type": "markdown",
            "metadata": {},
            "source": [
                "Puedes acceder a los elementos de una lista mediante índices. En Python, los índices empiezan desde 0."
            ]
        },
        {
            "cell_type": "code",
            "execution_count": 3,
            "metadata": {},
            "outputs": [
                {
                    "name": "stdout",
                    "output_type": "stream",
                    "text": [
                        "10\n",
                        "30\n"
                    ]
                }
            ],
            "source": [
                "mi_lista = [10, 20, 30, 40, 50]\n",
                "\n",
                "# Acceder al primer elemento (índice 0)\n",
                "print(mi_lista[0])  \n",
                "\n",
                "# Acceder al tercer elemento (índice 2)\n",
                "print(mi_lista[2])  "
            ]
        },
        {
            "cell_type": "markdown",
            "metadata": {},
            "source": [
                "Índices negativos: En Python, los índices negativos te permiten acceder a los elementos desde el final de la lista."
            ]
        },
        {
            "cell_type": "code",
            "execution_count": 5,
            "metadata": {},
            "outputs": [
                {
                    "name": "stdout",
                    "output_type": "stream",
                    "text": [
                        "50\n",
                        "40\n"
                    ]
                }
            ],
            "source": [
                "mi_lista = [10, 20, 30, 40, 50]\n",
                "\n",
                "# Acceder al último elemento (índice -1)\n",
                "print(mi_lista[-1])  \n",
                "\n",
                "# Acceder al penúltimo elemento (índice -2)\n",
                "print(mi_lista[-2])"
            ]
        },
        {
            "cell_type": "markdown",
            "metadata": {},
            "source": [
                "## Métodos más importantes para listas"
            ]
        },
        {
            "cell_type": "markdown",
            "metadata": {},
            "source": [
                "append(): Agrega un solo elemento al final de la lista."
            ]
        },
        {
            "cell_type": "code",
            "execution_count": 3,
            "metadata": {},
            "outputs": [
                {
                    "name": "stdout",
                    "output_type": "stream",
                    "text": [
                        "[1, 2, 3, 4]\n"
                    ]
                }
            ],
            "source": [
                "mi_lista = [1, 2, 3]\n",
                "mi_lista.append(4)\n",
                "print(mi_lista)"
            ]
        },
        {
            "cell_type": "markdown",
            "metadata": {},
            "source": [
                "extend(): Agrega varios elementos a la lista"
            ]
        },
        {
            "cell_type": "code",
            "execution_count": 4,
            "metadata": {},
            "outputs": [
                {
                    "name": "stdout",
                    "output_type": "stream",
                    "text": [
                        "[1, 2, 3, 4, 5, 6]\n"
                    ]
                }
            ],
            "source": [
                "mi_lista.extend([5, 6])\n",
                "print(mi_lista)  "
            ]
        },
        {
            "cell_type": "markdown",
            "metadata": {},
            "source": [
                "### Eliminar elementos de la lista"
            ]
        },
        {
            "cell_type": "markdown",
            "metadata": {},
            "source": [
                "pop(): Elimina y devuelve el último elemento de la lista (o el de un índice específico)."
            ]
        },
        {
            "cell_type": "code",
            "execution_count": 8,
            "metadata": {},
            "outputs": [
                {
                    "name": "stdout",
                    "output_type": "stream",
                    "text": [
                        "4\n",
                        "[1, 2]\n"
                    ]
                }
            ],
            "source": [
                "elemento = mi_lista.pop()\n",
                "print(elemento)  \n",
                "print(mi_lista) "
            ]
        },
        {
            "cell_type": "markdown",
            "metadata": {},
            "source": [
                "remove(): Elimina la primera aparición de un elemento específico."
            ]
        },
        {
            "cell_type": "code",
            "execution_count": 11,
            "metadata": {},
            "outputs": [
                {
                    "name": "stdout",
                    "output_type": "stream",
                    "text": [
                        "[1, 2, 4, 5, 6]\n"
                    ]
                }
            ],
            "source": [
                "mi_lista = [1, 2, 3, 4, 5, 6]\n",
                "\n",
                "mi_lista.remove(3)\n",
                "print(mi_lista)  "
            ]
        },
        {
            "cell_type": "markdown",
            "metadata": {},
            "source": [
                "del: Elimina un elemento en un índice específico o toda la lista."
            ]
        },
        {
            "cell_type": "code",
            "execution_count": 12,
            "metadata": {},
            "outputs": [
                {
                    "name": "stdout",
                    "output_type": "stream",
                    "text": [
                        "[1, 4, 5, 6]\n"
                    ]
                }
            ],
            "source": [
                "\n",
                "del mi_lista[1]  # Elimina el segundo elemento\n",
                "print(mi_lista)"
            ]
        },
        {
            "cell_type": "markdown",
            "metadata": {},
            "source": [
                "### Otros métodos útiles"
            ]
        },
        {
            "cell_type": "markdown",
            "metadata": {},
            "source": [
                "len(): Devuelve la longitud de la lista."
            ]
        },
        {
            "cell_type": "code",
            "execution_count": 13,
            "metadata": {},
            "outputs": [],
            "source": [
                "mi_lista = [1, 2, 3, 4, 5, 6]\n"
            ]
        },
        {
            "cell_type": "code",
            "execution_count": 14,
            "metadata": {},
            "outputs": [
                {
                    "name": "stdout",
                    "output_type": "stream",
                    "text": [
                        "6\n"
                    ]
                }
            ],
            "source": [
                "print(len(mi_lista))"
            ]
        },
        {
            "cell_type": "markdown",
            "metadata": {},
            "source": [
                "index(): Devuelve el índice del primer elemento coincidente."
            ]
        },
        {
            "cell_type": "code",
            "execution_count": 15,
            "metadata": {},
            "outputs": [
                {
                    "name": "stdout",
                    "output_type": "stream",
                    "text": [
                        "3\n"
                    ]
                }
            ],
            "source": [
                "print(mi_lista.index(4)) "
            ]
        },
        {
            "cell_type": "markdown",
            "metadata": {},
            "source": [
                "count(): Cuenta cuántas veces aparece un elemento en la lista"
            ]
        },
        {
            "cell_type": "code",
            "execution_count": 16,
            "metadata": {},
            "outputs": [
                {
                    "name": "stdout",
                    "output_type": "stream",
                    "text": [
                        "1\n"
                    ]
                }
            ],
            "source": [
                "mi_lista = [1, 2, 3, 4, 5, 6]\n",
                "\n",
                "print(mi_lista.count(4))"
            ]
        },
        {
            "cell_type": "markdown",
            "metadata": {},
            "source": [
                "sort(): Ordena los elementos de la lista."
            ]
        },
        {
            "cell_type": "code",
            "execution_count": 35,
            "metadata": {},
            "outputs": [
                {
                    "name": "stdout",
                    "output_type": "stream",
                    "text": [
                        "[1, 2, 3, 4]\n"
                    ]
                }
            ],
            "source": [
                "mi_lista = [3, 1, 4, 2]\n",
                "mi_lista.sort()\n",
                "print(mi_lista)"
            ]
        },
        {
            "cell_type": "markdown",
            "metadata": {},
            "source": [
                "reverse(): Invierte el orden de los elementos."
            ]
        },
        {
            "cell_type": "code",
            "execution_count": 20,
            "metadata": {},
            "outputs": [
                {
                    "name": "stdout",
                    "output_type": "stream",
                    "text": [
                        "[4, 3, 2, 1]\n"
                    ]
                }
            ],
            "source": [
                "mi_lista.reverse()\n",
                "print(mi_lista)"
            ]
        },
        {
            "cell_type": "markdown",
            "metadata": {},
            "source": [
                "slice(): Devuelve una porción de la lista (sublista)."
            ]
        },
        {
            "cell_type": "code",
            "execution_count": 21,
            "metadata": {},
            "outputs": [
                {
                    "name": "stdout",
                    "output_type": "stream",
                    "text": [
                        "[3, 2]\n"
                    ]
                }
            ],
            "source": [
                "sub_lista = mi_lista[1:3]  # Elementos en los índices 1 y 2\n",
                "print(sub_lista)  "
            ]
        },
        {
            "cell_type": "markdown",
            "metadata": {},
            "source": [
                "### Listas anidadas"
            ]
        },
        {
            "cell_type": "code",
            "execution_count": 34,
            "metadata": {},
            "outputs": [
                {
                    "name": "stdout",
                    "output_type": "stream",
                    "text": [
                        "3\n",
                        "6\n"
                    ]
                }
            ],
            "source": [
                "lista_anidada = [[1, 2], [3, 4], [5, 6], [7, 8]]\n",
                "\n",
                "# Acceder al primer subelemento de la segunda lista\n",
                "print(lista_anidada[1][0])\n",
                "print(lista_anidada[2][1])"
            ]
        },
        {
            "cell_type": "markdown",
            "metadata": {},
            "source": [
                "###  Iteración sobre listas (loop)"
            ]
        },
        {
            "cell_type": "code",
            "execution_count": 23,
            "metadata": {},
            "outputs": [
                {
                    "name": "stdout",
                    "output_type": "stream",
                    "text": [
                        "10\n",
                        "20\n",
                        "30\n",
                        "40\n"
                    ]
                }
            ],
            "source": [
                "mi_lista = [10, 20, 30, 40]\n",
                "\n",
                "for elemento in mi_lista:\n",
                "    print(elemento)"
            ]
        },
        {
            "cell_type": "markdown",
            "metadata": {},
            "source": [
                "Usamos la función enumerate() para acceder al índice y al valor de cada elemento."
            ]
        },
        {
            "cell_type": "code",
            "execution_count": 24,
            "metadata": {},
            "outputs": [
                {
                    "name": "stdout",
                    "output_type": "stream",
                    "text": [
                        "Índice: 0, Valor: a\n",
                        "Índice: 1, Valor: b\n",
                        "Índice: 2, Valor: c\n",
                        "Índice: 3, Valor: d\n"
                    ]
                }
            ],
            "source": [
                "mi_lista = ['a', 'b', 'c', 'd']\n",
                "\n",
                "for indice, valor in enumerate(mi_lista):\n",
                "    print(f\"Índice: {indice}, Valor: {valor}\")\n"
            ]
        },
        {
            "cell_type": "code",
            "execution_count": 26,
            "metadata": {},
            "outputs": [
                {
                    "name": "stdout",
                    "output_type": "stream",
                    "text": [
                        "Mi nombre es Fernando\n"
                    ]
                }
            ],
            "source": [
                "nombre = \"Fernando\"\n",
                "print(f\"Mi nombre es {nombre}\")"
            ]
        },
        {
            "cell_type": "markdown",
            "metadata": {},
            "source": [
                "Este ejemplo utiliza un bucle for para sumar los elementos de una lista de números."
            ]
        },
        {
            "cell_type": "code",
            "execution_count": 29,
            "metadata": {},
            "outputs": [
                {
                    "name": "stdout",
                    "output_type": "stream",
                    "text": [
                        "La suma total es: 15\n"
                    ]
                }
            ],
            "source": [
                "numeros = [1, 2, 3, 4, 5]\n",
                "suma = 0\n",
                "\n",
                "for numero in numeros:\n",
                "    suma += numero\n",
                "\n",
                "print(f\"La suma total es: {suma}\")"
            ]
        },
        {
            "cell_type": "markdown",
            "metadata": {},
            "source": [
                "Aquí iteramos sobre una lista que contiene otras listas. Usamos un bucle anidado para acceder a cada elemento."
            ]
        },
        {
            "cell_type": "code",
            "execution_count": 37,
            "metadata": {},
            "outputs": [
                {
                    "name": "stdout",
                    "output_type": "stream",
                    "text": [
                        "[1, 2]\n",
                        "[1, 2]\n",
                        "[1, 2]\n",
                        "[1, 2]\n",
                        "[1, 2]\n",
                        "[1, 2]\n"
                    ]
                }
            ],
            "source": [
                "lista_anidada = [[1, 2], [3, 4], [5, 6]]\n",
                "\n",
                "for sub_lista in lista_anidada:\n",
                "    for elemento in sub_lista:\n",
                "        print(lista_anidada[0])"
            ]
        },
        {
            "cell_type": "markdown",
            "metadata": {},
            "source": [
                "Este ejemplo recorre una lista de números y crea una nueva lista solo con los números pares.\n",
                "\n"
            ]
        },
        {
            "cell_type": "code",
            "execution_count": 33,
            "metadata": {},
            "outputs": [
                {
                    "name": "stdout",
                    "output_type": "stream",
                    "text": [
                        "Números pares: [15, 25]\n"
                    ]
                }
            ],
            "source": [
                "numeros = [10, 15, 20, 25, 30]\n",
                "pares = []\n",
                "\n",
                "for numero in numeros:\n",
                "    if numero % 2 != 0:\n",
                "        pares.append(numero)\n",
                "\n",
                "print(f\"Números pares: {impares}\")"
            ]
        },
        {
            "cell_type": "code",
            "execution_count": null,
            "metadata": {},
            "outputs": [],
            "source": [
                "numeros = [10, 15 , 20, 25, 30]\n",
                "pares = []\n",
                "impares = []\n",
                "numeroloco = []\n",
                "\n",
                "for numero in numeros:\n",
                "    if numero % 2 == 0: #si es divisible entre dos e igual a cero\n",
                "      pares.append(numero)\n",
                "    elif numero % 2 != 0:\n",
                "      impares.append()\n",
                "    else:\n",
                "       numeroloco.append()\n",
                "      \n",
                "print(f'Números pares: {pares} y números impares: {impares}')"
            ]
        },
        {
            "cell_type": "markdown",
            "metadata": {},
            "source": [
                "# Clase 3 del prework"
            ]
        },
        {
            "cell_type": "markdown",
            "metadata": {},
            "source": [
                "### ¿Qué son las funciones?\n",
                "\n",
                "Una función en Python es un bloque de código reutilizable que realiza una tarea específica. Las funciones permiten organizar el código de manera modular y reutilizable. Ayudan a reducir la redundancia y mejorar la legibilidad.\n",
                "\n",
                "La declaración de una función en Python utiliza la palabra clave def. La estructura básica es la siguiente:"
            ]
        },
        {
            "cell_type": "code",
            "execution_count": null,
            "metadata": {},
            "outputs": [],
            "source": [
                "def nombre_funcion(parámetros):\n",
                "    # Bloque de código\n",
                "    return valor"
            ]
        },
        {
            "cell_type": "code",
            "execution_count": 1,
            "metadata": {},
            "outputs": [
                {
                    "name": "stdout",
                    "output_type": "stream",
                    "text": [
                        "¡Hola Ana Belén, bienvenidos a la clase de funciones!\n"
                    ]
                }
            ],
            "source": [
                "nombre = \"Ana Belén\"\n",
                "\n",
                "def saludar():\n",
                "    print(f\"¡Hola {nombre}, bienvenidos a la clase de funciones!\")\n",
                "    \n",
                "saludar()  # Llamada a la función"
            ]
        },
        {
            "cell_type": "markdown",
            "metadata": {},
            "source": [
                "## Diferencia entre parámetros y argumentos:\n",
                "\n",
                "Parámetros: Son los nombres definidos en la declaración de la función.\n",
                "\n",
                "Argumentos: Son los valores que se pasan a la función cuando se llama.\n",
                "\n",
                "Ejemplo:"
            ]
        },
        {
            "cell_type": "code",
            "execution_count": 2,
            "metadata": {},
            "outputs": [
                {
                    "name": "stdout",
                    "output_type": "stream",
                    "text": [
                        "¡Hola, Ana!\n"
                    ]
                }
            ],
            "source": [
                "def saludar(nombre):  # 'nombre' es el parámetro\n",
                "    print(f\"¡Hola, {nombre}!\")\n",
                "    \n",
                "saludar(\"Ana\")  # 'Ana' es el argumento"
            ]
        },
        {
            "cell_type": "markdown",
            "metadata": {},
            "source": [
                "## Retorno de Valores\n",
                "\n",
                "El return permite a una función devolver un valor después de su ejecución. \n",
                "Esto es útil cuando necesitamos usar el resultado de una función en otros cálculos.\n",
                "\n",
                "Ejemplo:"
            ]
        },
        {
            "cell_type": "code",
            "execution_count": 4,
            "metadata": {},
            "outputs": [
                {
                    "data": {
                        "text/plain": [
                            "8"
                        ]
                    },
                    "execution_count": 4,
                    "metadata": {},
                    "output_type": "execute_result"
                }
            ],
            "source": [
                "def suma(a, b):\n",
                "    return a + b  # La función devuelve la suma de a y b\n",
                "\n",
                "suma(3, 5)\n"
            ]
        },
        {
            "cell_type": "markdown",
            "metadata": {},
            "source": [
                "## Alcance de las Variables (Scope)\n",
                "\n",
                "El alcance de las variables se refiere a qué partes del código pueden acceder a una variable.\n",
                "\n",
                "Variables locales: Definidas dentro de una función, solo accesibles dentro de esa función.\n",
                "\n",
                "Variables globales: Definidas fuera de las funciones, accesibles en todo el código.\n",
                "\n",
                "Ejemplo:"
            ]
        },
        {
            "cell_type": "code",
            "execution_count": 7,
            "metadata": {},
            "outputs": [
                {
                    "name": "stdout",
                    "output_type": "stream",
                    "text": [
                        "Variable local: 5\n",
                        "Variable global: 10\n"
                    ]
                }
            ],
            "source": [
                "x = 10  # Variable global\n",
                "\n",
                "def ejemplo_scope():\n",
                "    x = 5  # Variable local\n",
                "    print(f\"Variable local: {x}\")\n",
                "\n",
                "ejemplo_scope()  \n",
                "print(f\"Variable global: {x}\") "
            ]
        },
        {
            "cell_type": "markdown",
            "metadata": {},
            "source": [
                "## Funciones Anidadas\n",
                "\n",
                "Una función anidada es una función definida dentro de otra función.\n",
                "\n",
                "Las funciones anidadas pueden acceder a las variables de la función externa.\n",
                "\n",
                "Ejemplo:"
            ]
        },
        {
            "cell_type": "code",
            "execution_count": 10,
            "metadata": {},
            "outputs": [
                {
                    "name": "stdout",
                    "output_type": "stream",
                    "text": [
                        "Hola desde la función externa\n"
                    ]
                }
            ],
            "source": [
                "def funcion_externa():\n",
                "    mensaje = \"Hola desde la función externa\"\n",
                "\n",
                "    def funcion_interna():\n",
                "        print(mensaje)  # Accediendo a la variable de la función externa\n",
                "\n",
                "    funcion_interna()\n",
                "\n",
                "funcion_externa()"
            ]
        },
        {
            "cell_type": "markdown",
            "metadata": {},
            "source": [
                "## Funciones Anónimas (lambda)\n",
                "\n",
                "Las funciones lambda son funciones pequeñas y anónimas que no necesitan un nombre explícito.\n",
                "Se utilizan cuando solo se necesita una función sencilla y rápida.\n",
                "\n",
                "La sintaxis de una función lambda es:"
            ]
        },
        {
            "cell_type": "code",
            "execution_count": 11,
            "metadata": {},
            "outputs": [
                {
                    "name": "stdout",
                    "output_type": "stream",
                    "text": [
                        "8\n"
                    ]
                }
            ],
            "source": [
                "lambda argumentos: expresión\n",
                "\n",
                "# Ejemplo 1\n",
                "\n",
                "doble = lambda x: x * 2\n",
                "print(doble(4))  "
            ]
        },
        {
            "cell_type": "code",
            "execution_count": 14,
            "metadata": {},
            "outputs": [
                {
                    "name": "stdout",
                    "output_type": "stream",
                    "text": [
                        "8\n"
                    ]
                }
            ],
            "source": [
                "# Ejemplo 2\n",
                "\n",
                "suma = lambda x, y: x + y\n",
                "print(suma(3, 5))  "
            ]
        },
        {
            "cell_type": "markdown",
            "metadata": {},
            "source": [
                "Análogo con def del ejemplo 2"
            ]
        },
        {
            "cell_type": "code",
            "execution_count": 13,
            "metadata": {},
            "outputs": [
                {
                    "name": "stdout",
                    "output_type": "stream",
                    "text": [
                        "8\n"
                    ]
                }
            ],
            "source": [
                "def suma(x, y):\n",
                "    return x + y\n",
                "\n",
                "print(suma(3, 5)) "
            ]
        },
        {
            "cell_type": "code",
            "execution_count": 15,
            "metadata": {},
            "outputs": [
                {
                    "name": "stdout",
                    "output_type": "stream",
                    "text": [
                        "[2, 3, 5, 7, 11, 13, 17, 19, 23, 29]\n"
                    ]
                }
            ],
            "source": [
                "# Ejempl0 3\n",
                "\n",
                "numeros = list(range(2, 30))\n",
                "es_primo = lambda x: all(x % i != 0 for i in range(2, int(x**0.5) + 1))\n",
                "\n",
                "primos = list(filter(es_primo, numeros))\n",
                "print(primos)  # Salida: [2, 3, 5, 7, 11, 13, 17, 19, 23, 29]\n"
            ]
        },
        {
            "cell_type": "markdown",
            "metadata": {},
            "source": [
                "Explicación:\n",
                "La función lambda toma un número x y utiliza una comprensión de listas para verificar si el número es divisible por algún número i desde 2 hasta la raíz cuadrada de x.\n",
                "\n",
                "Si el número no es divisible por ningún i, se considera primo.\n",
                "\n",
                "La función filter aplica la lambda a cada número en la lista numeros, devolviendo solo aquellos que cumplen la condición de ser primos."
            ]
        },
        {
            "cell_type": "markdown",
            "metadata": {},
            "source": [
                "## Funciones Recursivas\n",
                "\n",
                "Una función recursiva es una función que se llama a sí misma durante su ejecución. \n",
                "\n",
                "Esto permite que un problema grande sea dividido en subproblemas más pequeños y más manejables. \n",
                "\n",
                "Las funciones recursivas son útiles para resolver problemas que pueden definirse en términos de versiones más pequeñas de sí mismos."
            ]
        },
        {
            "cell_type": "code",
            "execution_count": 21,
            "metadata": {},
            "outputs": [
                {
                    "name": "stdout",
                    "output_type": "stream",
                    "text": [
                        "15\n"
                    ]
                }
            ],
            "source": [
                "def suma_natural(n):\n",
                "    if n == 0:  # Caso base\n",
                "        return 0\n",
                "    else:\n",
                "        return n + suma_natural(n - 1)  # Llamada recursiva\n",
                "\n",
                "print(suma_natural(5))  # Salida: 15 (5 + 4 + 3 + 2 + 1 + 0)"
            ]
        },
        {
            "cell_type": "markdown",
            "metadata": {},
            "source": [
                "Caso base: Cuando n == 0, devolvemos 0. Esto detiene la recursión.\n",
                "\n",
                "Llamada recursiva: Se llama a la función suma_natural(n - 1), que suma n con el resultado de la suma de los números anteriores."
            ]
        },
        {
            "cell_type": "markdown",
            "metadata": {},
            "source": [
                "Las funciones recursivas pueden ser ineficientes en términos de memoria y velocidad, ya que requieren almacenar muchas llamadas en la pila de ejecución."
            ]
        },
        {
            "cell_type": "markdown",
            "metadata": {},
            "source": [
                "# Clase 4 del prework"
            ]
        },
        {
            "cell_type": "markdown",
            "metadata": {},
            "source": [
                "## ¿Qué son las librerías?\n",
                "\n",
                "En Python, las librerías son colecciones de código preescrito que nos permiten acceder a funciones y clases que facilitan nuestro trabajo.\n",
                "\n",
                "Utilizan funciones y métodos que otros programadores han creado para resolver problemas comunes. \n",
                "\n",
                "Con librerías podemos evitar reescribir código desde cero, lo que ahorra tiempo y esfuerzo.\n",
                "\n",
                "Ejemplos: NumPy, Pandas, Matplotlib"
            ]
        },
        {
            "cell_type": "markdown",
            "metadata": {},
            "source": [
                "## ¿Cómo se importan las librerías?\n",
                "\n",
                "Para usar una librería en Python, primero debemos importarla. Esto se hace utilizando la palabra clave import.\n",
                "\n",
                "Ejemplo:"
            ]
        },
        {
            "cell_type": "code",
            "execution_count": 29,
            "metadata": {},
            "outputs": [],
            "source": [
                "import numpy as np  # Importamos NumPy con el alias 'np'\n",
                "import pandas as pd  # Importamos Pandas con el alias 'pd'\n",
                "import matplotlib.pyplot as plt  # Importamos la parte gráfica de Matplotlib como 'plt'"
            ]
        },
        {
            "cell_type": "markdown",
            "metadata": {},
            "source": [
                "## Importancia de la documentación\n",
                "\n",
                "Cada librería tiene su documentación oficial, que es como un manual de instrucciones. \n",
                "\n",
                "Es muy importante consultar la documentación para entender qué hace cada función y cómo utilizarla correctamente. \n",
                "\n",
                "Los ejemplos en la documentación ayudan a resolver problemas específicos."
            ]
        },
        {
            "cell_type": "markdown",
            "metadata": {},
            "source": [
                "## 2. Introducción a NumPy\n",
                "\n",
                "¿Qué es NumPy?\n",
                "\n",
                "NumPy es una librería esencial en Python para el procesamiento numérico. Permite trabajar con arrays (arreglos o matrices) de manera eficiente, lo que facilita operaciones matemáticas rápidas.\n",
                "\n",
                "Creación de arrays:\n",
                "\n",
                "Los arrays de NumPy son similares a las listas de Python, pero son mucho más rápidos y flexibles para operaciones matemáticas.\n",
                "\n",
                "Ejemplo: Crear un array con numpy.array() y otras funciones útiles:"
            ]
        },
        {
            "cell_type": "code",
            "execution_count": 14,
            "metadata": {},
            "outputs": [
                {
                    "name": "stdout",
                    "output_type": "stream",
                    "text": [
                        "[1 2 3 4]\n",
                        "[[0. 0. 0.]\n",
                        " [0. 0. 0.]\n",
                        " [0. 0. 0.]]\n",
                        "[[1. 1. 1. 1.]\n",
                        " [1. 1. 1. 1.]]\n",
                        "[0 2 4 6 8]\n"
                    ]
                }
            ],
            "source": [
                "import numpy as np\n",
                "\n",
                "# Crear un array manualmente\n",
                "arr = np.array([1, 2, 3, 4])\n",
                "\n",
                "# Crear un array de ceros\n",
                "arr_zeros = np.zeros((3, 3))  # Matriz de 3x3 con ceros\n",
                "\n",
                "# Crear un array de unos\n",
                "arr_ones = np.ones((2, 4))  # Matriz de 2x4 con unos\n",
                "\n",
                "# Crear un array de números en un rango\n",
                "arr_range = np.arange(0, 10, 2)  # Números de 0 a 10 con pasos de 2\n",
                "\n",
                "print(arr)\n",
                "print(arr_zeros)\n",
                "print(arr_ones)\n",
                "print(arr_range)\n"
            ]
        },
        {
            "cell_type": "markdown",
            "metadata": {},
            "source": [
                "## Operaciones básicas con arrays\n",
                "\n",
                "Indexación y slicing (seleccionar elementos):"
            ]
        },
        {
            "cell_type": "code",
            "execution_count": 16,
            "metadata": {},
            "outputs": [
                {
                    "name": "stdout",
                    "output_type": "stream",
                    "text": [
                        "1\n",
                        "[2 3]\n"
                    ]
                }
            ],
            "source": [
                "arr = np.array([1, 2, 3, 4])\n",
                "\n",
                "print(arr[0])  # Primer elemento del array\n",
                "\n",
                "print(arr[1:3])  # Elementos del 1 al 2\n",
                "\n"
            ]
        },
        {
            "cell_type": "markdown",
            "metadata": {},
            "source": [
                "Broadcasting (operaciones en todos los elementos del array):"
            ]
        },
        {
            "cell_type": "code",
            "execution_count": 18,
            "metadata": {},
            "outputs": [
                {
                    "name": "stdout",
                    "output_type": "stream",
                    "text": [
                        "[2 4 6]\n"
                    ]
                }
            ],
            "source": [
                "arr = np.array([1, 2, 3])\n",
                "\n",
                "arr = arr * 2  # Multiplica todos los elementos por 2\n",
                "\n",
                "print(arr)"
            ]
        },
        {
            "cell_type": "markdown",
            "metadata": {},
            "source": [
                "## Funciones matemáticas y estadísticas\n",
                "\n",
                "NumPy tiene funciones predefinidas para realizar operaciones matemáticas y estadísticas:"
            ]
        },
        {
            "cell_type": "code",
            "execution_count": 32,
            "metadata": {},
            "outputs": [
                {
                    "data": {
                        "text/plain": [
                            "np.float64(1.118033988749895)"
                        ]
                    },
                    "execution_count": 32,
                    "metadata": {},
                    "output_type": "execute_result"
                }
            ],
            "source": [
                "arr = np.array([1, 2, 3, 4])\n",
                "\n",
                "\n",
                "#np.mean(arr)  # Media de los elementos\n",
                "#np.sum(arr)   # Suma de los elementos\n",
                "#np.std(arr)   # Desviación estándar"
            ]
        },
        {
            "cell_type": "markdown",
            "metadata": {},
            "source": [
                "## Arrays multidimensionales\n",
                "NumPy permite trabajar con matrices y modificar su forma.\n",
                "\n",
                "Ejemplo"
            ]
        },
        {
            "cell_type": "code",
            "execution_count": 25,
            "metadata": {},
            "outputs": [
                {
                    "name": "stdout",
                    "output_type": "stream",
                    "text": [
                        "[[1 2 3]\n",
                        " [4 5 6]]\n"
                    ]
                }
            ],
            "source": [
                "arr_multi = np.array([[1, 2], [3, 4], [5, 6]])\n",
                "\n",
                "# Cambiar la forma (reshape)\n",
                "arr_reshape = arr_multi.reshape(2, 3)\n",
                "\n",
                "# Transponer la matriz. Cambia filas por las columnas\n",
                "arr_transpose = arr_multi.T\n",
                "\n",
                "print(arr_reshape)\n"
            ]
        },
        {
            "cell_type": "code",
            "execution_count": 24,
            "metadata": {},
            "outputs": [
                {
                    "name": "stdout",
                    "output_type": "stream",
                    "text": [
                        "[[1 3 5]\n",
                        " [2 4 6]]\n"
                    ]
                }
            ],
            "source": [
                "print(arr_transpose)"
            ]
        },
        {
            "cell_type": "markdown",
            "metadata": {},
            "source": [
                "## Álgebra lineal con NumPy\n",
                "\n",
                "NumPy también permite realizar operaciones de álgebra lineal como multiplicación de matrices, cálculo de la inversa, etc.\n",
                "\n",
                "Ejemplo:"
            ]
        },
        {
            "cell_type": "code",
            "execution_count": 26,
            "metadata": {},
            "outputs": [
                {
                    "name": "stdout",
                    "output_type": "stream",
                    "text": [
                        "Matriz 1:\n",
                        "[[1 2]\n",
                        " [3 4]]\n",
                        "Matriz 2:\n",
                        "[[5 6]\n",
                        " [7 8]]\n",
                        "Resultado multplicación de matrices:\n",
                        "[[19 22]\n",
                        " [43 50]]\n"
                    ]
                }
            ],
            "source": [
                "mat1 = np.array([[1, 2], [3, 4]])\n",
                "mat2 = np.array([[5, 6], [7, 8]])\n",
                "\n",
                "# Multiplicación de matrices. Filas multiplicadas por columnas\n",
                "product = np.dot(mat1, mat2)\n",
                "\n",
                "print(\"Matriz 1:\")\n",
                "print(mat1)\n",
                "print(\"Matriz 2:\")\n",
                "print(mat2)\n",
                "print(\"Resultado multplicación de matrices:\")\n",
                "print(product)"
            ]
        },
        {
            "cell_type": "markdown",
            "metadata": {},
            "source": [
                "# Introducción a Pandas\n",
                "¿Qué es Pandas?\n",
                "\n",
                "Pandas es una librería para análisis y manipulación de datos. \n",
                "\n",
                "Facilita el trabajo con grandes conjuntos de datos mediante estructuras llamadas Series y DataFrames.\n",
                "\n",
                "Estructuras de datos principales\n",
                "\n",
                "Series: Son como arrays unidimensionales con etiquetas.\n",
                "\n",
                "DataFrames: Tablas de datos bidimensionales, similares a hojas de cálculo de Excel.\n",
                "\n",
                "Ejemplo:"
            ]
        },
        {
            "cell_type": "code",
            "execution_count": 7,
            "metadata": {},
            "outputs": [
                {
                    "name": "stdout",
                    "output_type": "stream",
                    "text": [
                        "a    10\n",
                        "b    20\n",
                        "c    30\n",
                        "dtype: int64\n",
                        "  Nombre  Edad\n",
                        "0    Ana    23\n",
                        "1   Juan    35\n",
                        "2  Pedro    45\n"
                    ]
                }
            ],
            "source": [
                "import pandas as pd\n",
                "\n",
                "# Crear una Serie\n",
                "serie = pd.Series([10, 20, 30], index=['a', 'b', 'c'])\n",
                "\n",
                "# Crear un DataFrame\n",
                "data = {'Nombre': ['Ana', 'Juan', 'Pedro'], 'Edad': [23, 35, 45]}\n",
                "df = pd.DataFrame(data)\n",
                "\n",
                "print(serie)\n",
                "print(df)"
            ]
        },
        {
            "cell_type": "markdown",
            "metadata": {},
            "source": [
                "## Importación de datos\n",
                "\n",
                "Pandas permite cargar datos desde archivos CSV, Excel, entre otros.\n",
                "\n",
                "Ejemplo:"
            ]
        },
        {
            "cell_type": "code",
            "execution_count": 35,
            "metadata": {},
            "outputs": [
                {
                    "data": {
                        "text/html": [
                            "<div>\n",
                            "<style scoped>\n",
                            "    .dataframe tbody tr th:only-of-type {\n",
                            "        vertical-align: middle;\n",
                            "    }\n",
                            "\n",
                            "    .dataframe tbody tr th {\n",
                            "        vertical-align: top;\n",
                            "    }\n",
                            "\n",
                            "    .dataframe thead th {\n",
                            "        text-align: right;\n",
                            "    }\n",
                            "</style>\n",
                            "<table border=\"1\" class=\"dataframe\">\n",
                            "  <thead>\n",
                            "    <tr style=\"text-align: right;\">\n",
                            "      <th></th>\n",
                            "      <th>Unnamed: 0</th>\n",
                            "      <th>id_realEstates</th>\n",
                            "      <th>isNew</th>\n",
                            "      <th>realEstate_name</th>\n",
                            "      <th>phone_realEstate</th>\n",
                            "      <th>url_inmueble</th>\n",
                            "      <th>rooms</th>\n",
                            "      <th>bathrooms</th>\n",
                            "      <th>surface</th>\n",
                            "      <th>price</th>\n",
                            "      <th>...</th>\n",
                            "      <th>level4Id</th>\n",
                            "      <th>level5Id</th>\n",
                            "      <th>level6Id</th>\n",
                            "      <th>level7Id</th>\n",
                            "      <th>level8Id</th>\n",
                            "      <th>accuracy</th>\n",
                            "      <th>latitude</th>\n",
                            "      <th>longitude</th>\n",
                            "      <th>zipCode</th>\n",
                            "      <th>customZone</th>\n",
                            "    </tr>\n",
                            "  </thead>\n",
                            "  <tbody>\n",
                            "    <tr>\n",
                            "      <th>0</th>\n",
                            "      <td>1</td>\n",
                            "      <td>153771986</td>\n",
                            "      <td>False</td>\n",
                            "      <td>ferrari 57 inmobiliaria</td>\n",
                            "      <td>912177526.0</td>\n",
                            "      <td>https://www.fotocasa.es/es/comprar/vivienda/ma...</td>\n",
                            "      <td>3.0</td>\n",
                            "      <td>2.0</td>\n",
                            "      <td>103.0</td>\n",
                            "      <td>195000</td>\n",
                            "      <td>...</td>\n",
                            "      <td>0</td>\n",
                            "      <td>0</td>\n",
                            "      <td>0</td>\n",
                            "      <td>0</td>\n",
                            "      <td>0</td>\n",
                            "      <td>0</td>\n",
                            "      <td>40,2948276786438</td>\n",
                            "      <td>-3,44402412135624</td>\n",
                            "      <td>NaN</td>\n",
                            "      <td>NaN</td>\n",
                            "    </tr>\n",
                            "    <tr>\n",
                            "      <th>1</th>\n",
                            "      <td>2</td>\n",
                            "      <td>153867863</td>\n",
                            "      <td>False</td>\n",
                            "      <td>tecnocasa fuenlabrada ferrocarril</td>\n",
                            "      <td>916358736.0</td>\n",
                            "      <td>https://www.fotocasa.es/es/comprar/vivienda/ma...</td>\n",
                            "      <td>3.0</td>\n",
                            "      <td>1.0</td>\n",
                            "      <td>NaN</td>\n",
                            "      <td>89000</td>\n",
                            "      <td>...</td>\n",
                            "      <td>0</td>\n",
                            "      <td>0</td>\n",
                            "      <td>0</td>\n",
                            "      <td>0</td>\n",
                            "      <td>0</td>\n",
                            "      <td>1</td>\n",
                            "      <td>40,28674</td>\n",
                            "      <td>-3,79351</td>\n",
                            "      <td>NaN</td>\n",
                            "      <td>NaN</td>\n",
                            "    </tr>\n",
                            "    <tr>\n",
                            "      <th>2</th>\n",
                            "      <td>3</td>\n",
                            "      <td>153430440</td>\n",
                            "      <td>False</td>\n",
                            "      <td>look find boadilla</td>\n",
                            "      <td>916350408.0</td>\n",
                            "      <td>https://www.fotocasa.es/es/comprar/vivienda/ma...</td>\n",
                            "      <td>2.0</td>\n",
                            "      <td>2.0</td>\n",
                            "      <td>99.0</td>\n",
                            "      <td>390000</td>\n",
                            "      <td>...</td>\n",
                            "      <td>0</td>\n",
                            "      <td>0</td>\n",
                            "      <td>0</td>\n",
                            "      <td>0</td>\n",
                            "      <td>0</td>\n",
                            "      <td>0</td>\n",
                            "      <td>40,4115646786438</td>\n",
                            "      <td>-3,90662252135624</td>\n",
                            "      <td>NaN</td>\n",
                            "      <td>NaN</td>\n",
                            "    </tr>\n",
                            "    <tr>\n",
                            "      <th>3</th>\n",
                            "      <td>4</td>\n",
                            "      <td>152776331</td>\n",
                            "      <td>False</td>\n",
                            "      <td>tecnocasa fuenlabrada ferrocarril</td>\n",
                            "      <td>916358736.0</td>\n",
                            "      <td>https://www.fotocasa.es/es/comprar/vivienda/ma...</td>\n",
                            "      <td>3.0</td>\n",
                            "      <td>1.0</td>\n",
                            "      <td>86.0</td>\n",
                            "      <td>89000</td>\n",
                            "      <td>...</td>\n",
                            "      <td>0</td>\n",
                            "      <td>0</td>\n",
                            "      <td>0</td>\n",
                            "      <td>0</td>\n",
                            "      <td>0</td>\n",
                            "      <td>0</td>\n",
                            "      <td>40,2853785786438</td>\n",
                            "      <td>-3,79508142135624</td>\n",
                            "      <td>NaN</td>\n",
                            "      <td>NaN</td>\n",
                            "    </tr>\n",
                            "    <tr>\n",
                            "      <th>4</th>\n",
                            "      <td>5</td>\n",
                            "      <td>153180188</td>\n",
                            "      <td>False</td>\n",
                            "      <td>ferrari 57 inmobiliaria</td>\n",
                            "      <td>912177526.0</td>\n",
                            "      <td>https://www.fotocasa.es/es/comprar/vivienda/ma...</td>\n",
                            "      <td>2.0</td>\n",
                            "      <td>2.0</td>\n",
                            "      <td>106.0</td>\n",
                            "      <td>172000</td>\n",
                            "      <td>...</td>\n",
                            "      <td>0</td>\n",
                            "      <td>0</td>\n",
                            "      <td>0</td>\n",
                            "      <td>0</td>\n",
                            "      <td>0</td>\n",
                            "      <td>0</td>\n",
                            "      <td>40,2998774864376</td>\n",
                            "      <td>-3,45226301356237</td>\n",
                            "      <td>NaN</td>\n",
                            "      <td>NaN</td>\n",
                            "    </tr>\n",
                            "    <tr>\n",
                            "      <th>...</th>\n",
                            "      <td>...</td>\n",
                            "      <td>...</td>\n",
                            "      <td>...</td>\n",
                            "      <td>...</td>\n",
                            "      <td>...</td>\n",
                            "      <td>...</td>\n",
                            "      <td>...</td>\n",
                            "      <td>...</td>\n",
                            "      <td>...</td>\n",
                            "      <td>...</td>\n",
                            "      <td>...</td>\n",
                            "      <td>...</td>\n",
                            "      <td>...</td>\n",
                            "      <td>...</td>\n",
                            "      <td>...</td>\n",
                            "      <td>...</td>\n",
                            "      <td>...</td>\n",
                            "      <td>...</td>\n",
                            "      <td>...</td>\n",
                            "      <td>...</td>\n",
                            "      <td>...</td>\n",
                            "    </tr>\n",
                            "    <tr>\n",
                            "      <th>15330</th>\n",
                            "      <td>15331</td>\n",
                            "      <td>153901377</td>\n",
                            "      <td>False</td>\n",
                            "      <td>infocasa consulting</td>\n",
                            "      <td>911360461.0</td>\n",
                            "      <td>https://www.fotocasa.es/es/comprar/vivienda/ma...</td>\n",
                            "      <td>2.0</td>\n",
                            "      <td>1.0</td>\n",
                            "      <td>96.0</td>\n",
                            "      <td>259470</td>\n",
                            "      <td>...</td>\n",
                            "      <td>0</td>\n",
                            "      <td>0</td>\n",
                            "      <td>0</td>\n",
                            "      <td>0</td>\n",
                            "      <td>0</td>\n",
                            "      <td>0</td>\n",
                            "      <td>40,45416</td>\n",
                            "      <td>-3,70286</td>\n",
                            "      <td>NaN</td>\n",
                            "      <td>NaN</td>\n",
                            "    </tr>\n",
                            "    <tr>\n",
                            "      <th>15331</th>\n",
                            "      <td>15332</td>\n",
                            "      <td>150394373</td>\n",
                            "      <td>False</td>\n",
                            "      <td>inmobiliaria pulpon</td>\n",
                            "      <td>912788039.0</td>\n",
                            "      <td>https://www.fotocasa.es/es/comprar/vivienda/ma...</td>\n",
                            "      <td>3.0</td>\n",
                            "      <td>1.0</td>\n",
                            "      <td>150.0</td>\n",
                            "      <td>165000</td>\n",
                            "      <td>...</td>\n",
                            "      <td>0</td>\n",
                            "      <td>0</td>\n",
                            "      <td>0</td>\n",
                            "      <td>0</td>\n",
                            "      <td>0</td>\n",
                            "      <td>0</td>\n",
                            "      <td>40,36652</td>\n",
                            "      <td>-3,48951</td>\n",
                            "      <td>NaN</td>\n",
                            "      <td>NaN</td>\n",
                            "    </tr>\n",
                            "    <tr>\n",
                            "      <th>15332</th>\n",
                            "      <td>15333</td>\n",
                            "      <td>153901397</td>\n",
                            "      <td>False</td>\n",
                            "      <td>tecnocasa torrelodones</td>\n",
                            "      <td>912780348.0</td>\n",
                            "      <td>https://www.fotocasa.es/es/comprar/vivienda/ma...</td>\n",
                            "      <td>4.0</td>\n",
                            "      <td>2.0</td>\n",
                            "      <td>175.0</td>\n",
                            "      <td>495000</td>\n",
                            "      <td>...</td>\n",
                            "      <td>0</td>\n",
                            "      <td>0</td>\n",
                            "      <td>0</td>\n",
                            "      <td>0</td>\n",
                            "      <td>0</td>\n",
                            "      <td>0</td>\n",
                            "      <td>40,57444</td>\n",
                            "      <td>-3,92124</td>\n",
                            "      <td>NaN</td>\n",
                            "      <td>NaN</td>\n",
                            "    </tr>\n",
                            "    <tr>\n",
                            "      <th>15333</th>\n",
                            "      <td>15334</td>\n",
                            "      <td>152607440</td>\n",
                            "      <td>False</td>\n",
                            "      <td>inmobiliaria pulpon</td>\n",
                            "      <td>912788039.0</td>\n",
                            "      <td>https://www.fotocasa.es/es/comprar/vivienda/ma...</td>\n",
                            "      <td>3.0</td>\n",
                            "      <td>2.0</td>\n",
                            "      <td>101.0</td>\n",
                            "      <td>195000</td>\n",
                            "      <td>...</td>\n",
                            "      <td>0</td>\n",
                            "      <td>0</td>\n",
                            "      <td>0</td>\n",
                            "      <td>0</td>\n",
                            "      <td>0</td>\n",
                            "      <td>0</td>\n",
                            "      <td>40,36967</td>\n",
                            "      <td>-3,48105</td>\n",
                            "      <td>NaN</td>\n",
                            "      <td>NaN</td>\n",
                            "    </tr>\n",
                            "    <tr>\n",
                            "      <th>15334</th>\n",
                            "      <td>15335</td>\n",
                            "      <td>153901356</td>\n",
                            "      <td>False</td>\n",
                            "      <td>infocasa consulting</td>\n",
                            "      <td>911360461.0</td>\n",
                            "      <td>https://www.fotocasa.es/es/comprar/vivienda/ma...</td>\n",
                            "      <td>3.0</td>\n",
                            "      <td>2.0</td>\n",
                            "      <td>152.0</td>\n",
                            "      <td>765000</td>\n",
                            "      <td>...</td>\n",
                            "      <td>0</td>\n",
                            "      <td>0</td>\n",
                            "      <td>0</td>\n",
                            "      <td>0</td>\n",
                            "      <td>0</td>\n",
                            "      <td>0</td>\n",
                            "      <td>40,45773</td>\n",
                            "      <td>-3,69068</td>\n",
                            "      <td>NaN</td>\n",
                            "      <td>NaN</td>\n",
                            "    </tr>\n",
                            "  </tbody>\n",
                            "</table>\n",
                            "<p>15335 rows × 37 columns</p>\n",
                            "</div>"
                        ],
                        "text/plain": [
                            "       Unnamed: 0  id_realEstates  isNew                    realEstate_name  \\\n",
                            "0               1       153771986  False            ferrari 57 inmobiliaria   \n",
                            "1               2       153867863  False  tecnocasa fuenlabrada ferrocarril   \n",
                            "2               3       153430440  False                 look find boadilla   \n",
                            "3               4       152776331  False  tecnocasa fuenlabrada ferrocarril   \n",
                            "4               5       153180188  False            ferrari 57 inmobiliaria   \n",
                            "...           ...             ...    ...                                ...   \n",
                            "15330       15331       153901377  False                infocasa consulting   \n",
                            "15331       15332       150394373  False                inmobiliaria pulpon   \n",
                            "15332       15333       153901397  False             tecnocasa torrelodones   \n",
                            "15333       15334       152607440  False                inmobiliaria pulpon   \n",
                            "15334       15335       153901356  False                infocasa consulting   \n",
                            "\n",
                            "       phone_realEstate                                       url_inmueble  \\\n",
                            "0           912177526.0  https://www.fotocasa.es/es/comprar/vivienda/ma...   \n",
                            "1           916358736.0  https://www.fotocasa.es/es/comprar/vivienda/ma...   \n",
                            "2           916350408.0  https://www.fotocasa.es/es/comprar/vivienda/ma...   \n",
                            "3           916358736.0  https://www.fotocasa.es/es/comprar/vivienda/ma...   \n",
                            "4           912177526.0  https://www.fotocasa.es/es/comprar/vivienda/ma...   \n",
                            "...                 ...                                                ...   \n",
                            "15330       911360461.0  https://www.fotocasa.es/es/comprar/vivienda/ma...   \n",
                            "15331       912788039.0  https://www.fotocasa.es/es/comprar/vivienda/ma...   \n",
                            "15332       912780348.0  https://www.fotocasa.es/es/comprar/vivienda/ma...   \n",
                            "15333       912788039.0  https://www.fotocasa.es/es/comprar/vivienda/ma...   \n",
                            "15334       911360461.0  https://www.fotocasa.es/es/comprar/vivienda/ma...   \n",
                            "\n",
                            "       rooms  bathrooms  surface   price  ... level4Id level5Id level6Id  \\\n",
                            "0        3.0        2.0    103.0  195000  ...        0        0        0   \n",
                            "1        3.0        1.0      NaN   89000  ...        0        0        0   \n",
                            "2        2.0        2.0     99.0  390000  ...        0        0        0   \n",
                            "3        3.0        1.0     86.0   89000  ...        0        0        0   \n",
                            "4        2.0        2.0    106.0  172000  ...        0        0        0   \n",
                            "...      ...        ...      ...     ...  ...      ...      ...      ...   \n",
                            "15330    2.0        1.0     96.0  259470  ...        0        0        0   \n",
                            "15331    3.0        1.0    150.0  165000  ...        0        0        0   \n",
                            "15332    4.0        2.0    175.0  495000  ...        0        0        0   \n",
                            "15333    3.0        2.0    101.0  195000  ...        0        0        0   \n",
                            "15334    3.0        2.0    152.0  765000  ...        0        0        0   \n",
                            "\n",
                            "      level7Id level8Id accuracy          latitude          longitude zipCode  \\\n",
                            "0            0        0        0  40,2948276786438  -3,44402412135624     NaN   \n",
                            "1            0        0        1          40,28674           -3,79351     NaN   \n",
                            "2            0        0        0  40,4115646786438  -3,90662252135624     NaN   \n",
                            "3            0        0        0  40,2853785786438  -3,79508142135624     NaN   \n",
                            "4            0        0        0  40,2998774864376  -3,45226301356237     NaN   \n",
                            "...        ...      ...      ...               ...                ...     ...   \n",
                            "15330        0        0        0          40,45416           -3,70286     NaN   \n",
                            "15331        0        0        0          40,36652           -3,48951     NaN   \n",
                            "15332        0        0        0          40,57444           -3,92124     NaN   \n",
                            "15333        0        0        0          40,36967           -3,48105     NaN   \n",
                            "15334        0        0        0          40,45773           -3,69068     NaN   \n",
                            "\n",
                            "      customZone  \n",
                            "0            NaN  \n",
                            "1            NaN  \n",
                            "2            NaN  \n",
                            "3            NaN  \n",
                            "4            NaN  \n",
                            "...          ...  \n",
                            "15330        NaN  \n",
                            "15331        NaN  \n",
                            "15332        NaN  \n",
                            "15333        NaN  \n",
                            "15334        NaN  \n",
                            "\n",
                            "[15335 rows x 37 columns]"
                        ]
                    },
                    "execution_count": 35,
                    "metadata": {},
                    "output_type": "execute_result"
                }
            ],
            "source": [
                "df = pd.read_csv('/workspaces/interacting-with-api-python-project-tutorial/data/real_estate.csv', sep=';')\n",
                "\n",
                "df"
            ]
        },
        {
            "cell_type": "markdown",
            "metadata": {},
            "source": [
                "## Manipulación de datos\n",
                "\n",
                "Puedes seleccionar, filtrar y manipular los datos de un DataFrame fácilmente:\n",
                "\n",
                "Seleccionar columnas y filas:"
            ]
        },
        {
            "cell_type": "code",
            "execution_count": 43,
            "metadata": {},
            "outputs": [
                {
                    "name": "stdout",
                    "output_type": "stream",
                    "text": [
                        "0        3.0\n",
                        "1        3.0\n",
                        "2        2.0\n",
                        "3        3.0\n",
                        "4        2.0\n",
                        "        ... \n",
                        "15330    2.0\n",
                        "15331    3.0\n",
                        "15332    4.0\n",
                        "15333    3.0\n",
                        "15334    3.0\n",
                        "Name: rooms, Length: 15335, dtype: float64\n",
                        "Unnamed: 0                                                          1\n",
                        "id_realEstates                                              153771986\n",
                        "isNew                                                           False\n",
                        "realEstate_name                               ferrari 57 inmobiliaria\n",
                        "phone_realEstate                                          912177526.0\n",
                        "url_inmueble        https://www.fotocasa.es/es/comprar/vivienda/ma...\n",
                        "rooms                                                             3.0\n",
                        "bathrooms                                                         2.0\n",
                        "surface                                                         103.0\n",
                        "price                                                          195000\n",
                        "date                                     2019-12-28T18:27:15.9975027Z\n",
                        "description         Ponemos a la venta piso de 3 dormitorios con t...\n",
                        "address             Calle Presidente Felipe Gonzalez, Arganda del Rey\n",
                        "country                                                        España\n",
                        "level1                                                         Madrid\n",
                        "level2                                                         Madrid\n",
                        "level3                                 Madrid Sureste - Cuenca Tajuña\n",
                        "level4                                       Arganda del Rey, Zona de\n",
                        "level5                                                Arganda del Rey\n",
                        "level6                                                            NaN\n",
                        "level7                                                        Perlita\n",
                        "level8                                                            NaN\n",
                        "upperLevel                                                    Perlita\n",
                        "countryId                                                           0\n",
                        "level1Id                                                            0\n",
                        "level2Id                                                            0\n",
                        "level3Id                                                            0\n",
                        "level4Id                                                            0\n",
                        "level5Id                                                            0\n",
                        "level6Id                                                            0\n",
                        "level7Id                                                            0\n",
                        "level8Id                                                            0\n",
                        "accuracy                                                            0\n",
                        "latitude                                             40,2948276786438\n",
                        "longitude                                           -3,44402412135624\n",
                        "zipCode                                                           NaN\n",
                        "customZone                                                        NaN\n",
                        "Name: 0, dtype: object\n"
                    ]
                }
            ],
            "source": [
                "print(df['rooms'])  # Seleccionar columna 'Nombre'\n",
                "print(df.loc[0])     # Seleccionar la primera fila\n"
            ]
        },
        {
            "cell_type": "markdown",
            "metadata": {},
            "source": [
                "Filtrar datos:"
            ]
        },
        {
            "cell_type": "code",
            "execution_count": 37,
            "metadata": {},
            "outputs": [
                {
                    "data": {
                        "text/html": [
                            "<div>\n",
                            "<style scoped>\n",
                            "    .dataframe tbody tr th:only-of-type {\n",
                            "        vertical-align: middle;\n",
                            "    }\n",
                            "\n",
                            "    .dataframe tbody tr th {\n",
                            "        vertical-align: top;\n",
                            "    }\n",
                            "\n",
                            "    .dataframe thead th {\n",
                            "        text-align: right;\n",
                            "    }\n",
                            "</style>\n",
                            "<table border=\"1\" class=\"dataframe\">\n",
                            "  <thead>\n",
                            "    <tr style=\"text-align: right;\">\n",
                            "      <th></th>\n",
                            "      <th>Unnamed: 0</th>\n",
                            "      <th>id_realEstates</th>\n",
                            "      <th>isNew</th>\n",
                            "      <th>realEstate_name</th>\n",
                            "      <th>phone_realEstate</th>\n",
                            "      <th>url_inmueble</th>\n",
                            "      <th>rooms</th>\n",
                            "      <th>bathrooms</th>\n",
                            "      <th>surface</th>\n",
                            "      <th>price</th>\n",
                            "      <th>...</th>\n",
                            "      <th>level4Id</th>\n",
                            "      <th>level5Id</th>\n",
                            "      <th>level6Id</th>\n",
                            "      <th>level7Id</th>\n",
                            "      <th>level8Id</th>\n",
                            "      <th>accuracy</th>\n",
                            "      <th>latitude</th>\n",
                            "      <th>longitude</th>\n",
                            "      <th>zipCode</th>\n",
                            "      <th>customZone</th>\n",
                            "    </tr>\n",
                            "  </thead>\n",
                            "  <tbody>\n",
                            "    <tr>\n",
                            "      <th>8537</th>\n",
                            "      <td>8538</td>\n",
                            "      <td>142907825</td>\n",
                            "      <td>False</td>\n",
                            "      <td>remax jumbo</td>\n",
                            "      <td>910758029.0</td>\n",
                            "      <td>https://www.fotocasa.es/es/comprar/vivienda/ma...</td>\n",
                            "      <td>30.0</td>\n",
                            "      <td>20.0</td>\n",
                            "      <td>5504.0</td>\n",
                            "      <td>790000</td>\n",
                            "      <td>...</td>\n",
                            "      <td>0</td>\n",
                            "      <td>0</td>\n",
                            "      <td>0</td>\n",
                            "      <td>0</td>\n",
                            "      <td>0</td>\n",
                            "      <td>0</td>\n",
                            "      <td>40,98879</td>\n",
                            "      <td>-3,70811</td>\n",
                            "      <td>NaN</td>\n",
                            "      <td>NaN</td>\n",
                            "    </tr>\n",
                            "  </tbody>\n",
                            "</table>\n",
                            "<p>1 rows × 37 columns</p>\n",
                            "</div>"
                        ],
                        "text/plain": [
                            "      Unnamed: 0  id_realEstates  isNew realEstate_name  phone_realEstate  \\\n",
                            "8537        8538       142907825  False     remax jumbo       910758029.0   \n",
                            "\n",
                            "                                           url_inmueble  rooms  bathrooms  \\\n",
                            "8537  https://www.fotocasa.es/es/comprar/vivienda/ma...   30.0       20.0   \n",
                            "\n",
                            "      surface   price  ... level4Id level5Id level6Id level7Id level8Id  \\\n",
                            "8537   5504.0  790000  ...        0        0        0        0        0   \n",
                            "\n",
                            "     accuracy  latitude longitude zipCode customZone  \n",
                            "8537        0  40,98879  -3,70811     NaN        NaN  \n",
                            "\n",
                            "[1 rows x 37 columns]"
                        ]
                    },
                    "execution_count": 37,
                    "metadata": {},
                    "output_type": "execute_result"
                }
            ],
            "source": [
                "df[df['rooms'] > 20]  # Filtrar filas donde la edad es mayor a 30\n"
            ]
        },
        {
            "cell_type": "markdown",
            "metadata": {},
            "source": [
                "## Limpieza de datos\n",
                "\n",
                "Pandas facilita la limpieza de datos como eliminar duplicados o manejar valores nulos.\n",
                "\n",
                "Ejemplo:\n"
            ]
        },
        {
            "cell_type": "code",
            "execution_count": 60,
            "metadata": {},
            "outputs": [
                {
                    "data": {
                        "text/html": [
                            "<div>\n",
                            "<style scoped>\n",
                            "    .dataframe tbody tr th:only-of-type {\n",
                            "        vertical-align: middle;\n",
                            "    }\n",
                            "\n",
                            "    .dataframe tbody tr th {\n",
                            "        vertical-align: top;\n",
                            "    }\n",
                            "\n",
                            "    .dataframe thead th {\n",
                            "        text-align: right;\n",
                            "    }\n",
                            "</style>\n",
                            "<table border=\"1\" class=\"dataframe\">\n",
                            "  <thead>\n",
                            "    <tr style=\"text-align: right;\">\n",
                            "      <th></th>\n",
                            "      <th>Unnamed: 0</th>\n",
                            "      <th>id_realEstates</th>\n",
                            "      <th>isNew</th>\n",
                            "      <th>realEstate_name</th>\n",
                            "      <th>phone_realEstate</th>\n",
                            "      <th>url_inmueble</th>\n",
                            "      <th>rooms</th>\n",
                            "      <th>bathrooms</th>\n",
                            "      <th>surface</th>\n",
                            "      <th>price</th>\n",
                            "      <th>...</th>\n",
                            "      <th>level4Id</th>\n",
                            "      <th>level5Id</th>\n",
                            "      <th>level6Id</th>\n",
                            "      <th>level7Id</th>\n",
                            "      <th>level8Id</th>\n",
                            "      <th>accuracy</th>\n",
                            "      <th>latitude</th>\n",
                            "      <th>longitude</th>\n",
                            "      <th>zipCode</th>\n",
                            "      <th>customZone</th>\n",
                            "    </tr>\n",
                            "  </thead>\n",
                            "  <tbody>\n",
                            "    <tr>\n",
                            "      <th>0</th>\n",
                            "      <td>1</td>\n",
                            "      <td>153771986</td>\n",
                            "      <td>False</td>\n",
                            "      <td>ferrari 57 inmobiliaria</td>\n",
                            "      <td>912177526.0</td>\n",
                            "      <td>https://www.fotocasa.es/es/comprar/vivienda/ma...</td>\n",
                            "      <td>3.0</td>\n",
                            "      <td>2.0</td>\n",
                            "      <td>103.0</td>\n",
                            "      <td>195000</td>\n",
                            "      <td>...</td>\n",
                            "      <td>0</td>\n",
                            "      <td>0</td>\n",
                            "      <td>0</td>\n",
                            "      <td>0</td>\n",
                            "      <td>0</td>\n",
                            "      <td>0</td>\n",
                            "      <td>40,2948276786438</td>\n",
                            "      <td>-3,44402412135624</td>\n",
                            "      <td>0.0</td>\n",
                            "      <td>0.0</td>\n",
                            "    </tr>\n",
                            "    <tr>\n",
                            "      <th>1</th>\n",
                            "      <td>2</td>\n",
                            "      <td>153867863</td>\n",
                            "      <td>False</td>\n",
                            "      <td>tecnocasa fuenlabrada ferrocarril</td>\n",
                            "      <td>916358736.0</td>\n",
                            "      <td>https://www.fotocasa.es/es/comprar/vivienda/ma...</td>\n",
                            "      <td>3.0</td>\n",
                            "      <td>1.0</td>\n",
                            "      <td>0.0</td>\n",
                            "      <td>89000</td>\n",
                            "      <td>...</td>\n",
                            "      <td>0</td>\n",
                            "      <td>0</td>\n",
                            "      <td>0</td>\n",
                            "      <td>0</td>\n",
                            "      <td>0</td>\n",
                            "      <td>1</td>\n",
                            "      <td>40,28674</td>\n",
                            "      <td>-3,79351</td>\n",
                            "      <td>0.0</td>\n",
                            "      <td>0.0</td>\n",
                            "    </tr>\n",
                            "    <tr>\n",
                            "      <th>2</th>\n",
                            "      <td>3</td>\n",
                            "      <td>153430440</td>\n",
                            "      <td>False</td>\n",
                            "      <td>look find boadilla</td>\n",
                            "      <td>916350408.0</td>\n",
                            "      <td>https://www.fotocasa.es/es/comprar/vivienda/ma...</td>\n",
                            "      <td>2.0</td>\n",
                            "      <td>2.0</td>\n",
                            "      <td>99.0</td>\n",
                            "      <td>390000</td>\n",
                            "      <td>...</td>\n",
                            "      <td>0</td>\n",
                            "      <td>0</td>\n",
                            "      <td>0</td>\n",
                            "      <td>0</td>\n",
                            "      <td>0</td>\n",
                            "      <td>0</td>\n",
                            "      <td>40,4115646786438</td>\n",
                            "      <td>-3,90662252135624</td>\n",
                            "      <td>0.0</td>\n",
                            "      <td>0.0</td>\n",
                            "    </tr>\n",
                            "    <tr>\n",
                            "      <th>3</th>\n",
                            "      <td>4</td>\n",
                            "      <td>152776331</td>\n",
                            "      <td>False</td>\n",
                            "      <td>tecnocasa fuenlabrada ferrocarril</td>\n",
                            "      <td>916358736.0</td>\n",
                            "      <td>https://www.fotocasa.es/es/comprar/vivienda/ma...</td>\n",
                            "      <td>3.0</td>\n",
                            "      <td>1.0</td>\n",
                            "      <td>86.0</td>\n",
                            "      <td>89000</td>\n",
                            "      <td>...</td>\n",
                            "      <td>0</td>\n",
                            "      <td>0</td>\n",
                            "      <td>0</td>\n",
                            "      <td>0</td>\n",
                            "      <td>0</td>\n",
                            "      <td>0</td>\n",
                            "      <td>40,2853785786438</td>\n",
                            "      <td>-3,79508142135624</td>\n",
                            "      <td>0.0</td>\n",
                            "      <td>0.0</td>\n",
                            "    </tr>\n",
                            "    <tr>\n",
                            "      <th>4</th>\n",
                            "      <td>5</td>\n",
                            "      <td>153180188</td>\n",
                            "      <td>False</td>\n",
                            "      <td>ferrari 57 inmobiliaria</td>\n",
                            "      <td>912177526.0</td>\n",
                            "      <td>https://www.fotocasa.es/es/comprar/vivienda/ma...</td>\n",
                            "      <td>2.0</td>\n",
                            "      <td>2.0</td>\n",
                            "      <td>106.0</td>\n",
                            "      <td>172000</td>\n",
                            "      <td>...</td>\n",
                            "      <td>0</td>\n",
                            "      <td>0</td>\n",
                            "      <td>0</td>\n",
                            "      <td>0</td>\n",
                            "      <td>0</td>\n",
                            "      <td>0</td>\n",
                            "      <td>40,2998774864376</td>\n",
                            "      <td>-3,45226301356237</td>\n",
                            "      <td>0.0</td>\n",
                            "      <td>0.0</td>\n",
                            "    </tr>\n",
                            "    <tr>\n",
                            "      <th>...</th>\n",
                            "      <td>...</td>\n",
                            "      <td>...</td>\n",
                            "      <td>...</td>\n",
                            "      <td>...</td>\n",
                            "      <td>...</td>\n",
                            "      <td>...</td>\n",
                            "      <td>...</td>\n",
                            "      <td>...</td>\n",
                            "      <td>...</td>\n",
                            "      <td>...</td>\n",
                            "      <td>...</td>\n",
                            "      <td>...</td>\n",
                            "      <td>...</td>\n",
                            "      <td>...</td>\n",
                            "      <td>...</td>\n",
                            "      <td>...</td>\n",
                            "      <td>...</td>\n",
                            "      <td>...</td>\n",
                            "      <td>...</td>\n",
                            "      <td>...</td>\n",
                            "      <td>...</td>\n",
                            "    </tr>\n",
                            "    <tr>\n",
                            "      <th>15330</th>\n",
                            "      <td>15331</td>\n",
                            "      <td>153901377</td>\n",
                            "      <td>False</td>\n",
                            "      <td>infocasa consulting</td>\n",
                            "      <td>911360461.0</td>\n",
                            "      <td>https://www.fotocasa.es/es/comprar/vivienda/ma...</td>\n",
                            "      <td>2.0</td>\n",
                            "      <td>1.0</td>\n",
                            "      <td>96.0</td>\n",
                            "      <td>259470</td>\n",
                            "      <td>...</td>\n",
                            "      <td>0</td>\n",
                            "      <td>0</td>\n",
                            "      <td>0</td>\n",
                            "      <td>0</td>\n",
                            "      <td>0</td>\n",
                            "      <td>0</td>\n",
                            "      <td>40,45416</td>\n",
                            "      <td>-3,70286</td>\n",
                            "      <td>0.0</td>\n",
                            "      <td>0.0</td>\n",
                            "    </tr>\n",
                            "    <tr>\n",
                            "      <th>15331</th>\n",
                            "      <td>15332</td>\n",
                            "      <td>150394373</td>\n",
                            "      <td>False</td>\n",
                            "      <td>inmobiliaria pulpon</td>\n",
                            "      <td>912788039.0</td>\n",
                            "      <td>https://www.fotocasa.es/es/comprar/vivienda/ma...</td>\n",
                            "      <td>3.0</td>\n",
                            "      <td>1.0</td>\n",
                            "      <td>150.0</td>\n",
                            "      <td>165000</td>\n",
                            "      <td>...</td>\n",
                            "      <td>0</td>\n",
                            "      <td>0</td>\n",
                            "      <td>0</td>\n",
                            "      <td>0</td>\n",
                            "      <td>0</td>\n",
                            "      <td>0</td>\n",
                            "      <td>40,36652</td>\n",
                            "      <td>-3,48951</td>\n",
                            "      <td>0.0</td>\n",
                            "      <td>0.0</td>\n",
                            "    </tr>\n",
                            "    <tr>\n",
                            "      <th>15332</th>\n",
                            "      <td>15333</td>\n",
                            "      <td>153901397</td>\n",
                            "      <td>False</td>\n",
                            "      <td>tecnocasa torrelodones</td>\n",
                            "      <td>912780348.0</td>\n",
                            "      <td>https://www.fotocasa.es/es/comprar/vivienda/ma...</td>\n",
                            "      <td>4.0</td>\n",
                            "      <td>2.0</td>\n",
                            "      <td>175.0</td>\n",
                            "      <td>495000</td>\n",
                            "      <td>...</td>\n",
                            "      <td>0</td>\n",
                            "      <td>0</td>\n",
                            "      <td>0</td>\n",
                            "      <td>0</td>\n",
                            "      <td>0</td>\n",
                            "      <td>0</td>\n",
                            "      <td>40,57444</td>\n",
                            "      <td>-3,92124</td>\n",
                            "      <td>0.0</td>\n",
                            "      <td>0.0</td>\n",
                            "    </tr>\n",
                            "    <tr>\n",
                            "      <th>15333</th>\n",
                            "      <td>15334</td>\n",
                            "      <td>152607440</td>\n",
                            "      <td>False</td>\n",
                            "      <td>inmobiliaria pulpon</td>\n",
                            "      <td>912788039.0</td>\n",
                            "      <td>https://www.fotocasa.es/es/comprar/vivienda/ma...</td>\n",
                            "      <td>3.0</td>\n",
                            "      <td>2.0</td>\n",
                            "      <td>101.0</td>\n",
                            "      <td>195000</td>\n",
                            "      <td>...</td>\n",
                            "      <td>0</td>\n",
                            "      <td>0</td>\n",
                            "      <td>0</td>\n",
                            "      <td>0</td>\n",
                            "      <td>0</td>\n",
                            "      <td>0</td>\n",
                            "      <td>40,36967</td>\n",
                            "      <td>-3,48105</td>\n",
                            "      <td>0.0</td>\n",
                            "      <td>0.0</td>\n",
                            "    </tr>\n",
                            "    <tr>\n",
                            "      <th>15334</th>\n",
                            "      <td>15335</td>\n",
                            "      <td>153901356</td>\n",
                            "      <td>False</td>\n",
                            "      <td>infocasa consulting</td>\n",
                            "      <td>911360461.0</td>\n",
                            "      <td>https://www.fotocasa.es/es/comprar/vivienda/ma...</td>\n",
                            "      <td>3.0</td>\n",
                            "      <td>2.0</td>\n",
                            "      <td>152.0</td>\n",
                            "      <td>765000</td>\n",
                            "      <td>...</td>\n",
                            "      <td>0</td>\n",
                            "      <td>0</td>\n",
                            "      <td>0</td>\n",
                            "      <td>0</td>\n",
                            "      <td>0</td>\n",
                            "      <td>0</td>\n",
                            "      <td>40,45773</td>\n",
                            "      <td>-3,69068</td>\n",
                            "      <td>0.0</td>\n",
                            "      <td>0.0</td>\n",
                            "    </tr>\n",
                            "  </tbody>\n",
                            "</table>\n",
                            "<p>15335 rows × 37 columns</p>\n",
                            "</div>"
                        ],
                        "text/plain": [
                            "       Unnamed: 0  id_realEstates  isNew                    realEstate_name  \\\n",
                            "0               1       153771986  False            ferrari 57 inmobiliaria   \n",
                            "1               2       153867863  False  tecnocasa fuenlabrada ferrocarril   \n",
                            "2               3       153430440  False                 look find boadilla   \n",
                            "3               4       152776331  False  tecnocasa fuenlabrada ferrocarril   \n",
                            "4               5       153180188  False            ferrari 57 inmobiliaria   \n",
                            "...           ...             ...    ...                                ...   \n",
                            "15330       15331       153901377  False                infocasa consulting   \n",
                            "15331       15332       150394373  False                inmobiliaria pulpon   \n",
                            "15332       15333       153901397  False             tecnocasa torrelodones   \n",
                            "15333       15334       152607440  False                inmobiliaria pulpon   \n",
                            "15334       15335       153901356  False                infocasa consulting   \n",
                            "\n",
                            "       phone_realEstate                                       url_inmueble  \\\n",
                            "0           912177526.0  https://www.fotocasa.es/es/comprar/vivienda/ma...   \n",
                            "1           916358736.0  https://www.fotocasa.es/es/comprar/vivienda/ma...   \n",
                            "2           916350408.0  https://www.fotocasa.es/es/comprar/vivienda/ma...   \n",
                            "3           916358736.0  https://www.fotocasa.es/es/comprar/vivienda/ma...   \n",
                            "4           912177526.0  https://www.fotocasa.es/es/comprar/vivienda/ma...   \n",
                            "...                 ...                                                ...   \n",
                            "15330       911360461.0  https://www.fotocasa.es/es/comprar/vivienda/ma...   \n",
                            "15331       912788039.0  https://www.fotocasa.es/es/comprar/vivienda/ma...   \n",
                            "15332       912780348.0  https://www.fotocasa.es/es/comprar/vivienda/ma...   \n",
                            "15333       912788039.0  https://www.fotocasa.es/es/comprar/vivienda/ma...   \n",
                            "15334       911360461.0  https://www.fotocasa.es/es/comprar/vivienda/ma...   \n",
                            "\n",
                            "       rooms  bathrooms  surface   price  ... level4Id level5Id level6Id  \\\n",
                            "0        3.0        2.0    103.0  195000  ...        0        0        0   \n",
                            "1        3.0        1.0      0.0   89000  ...        0        0        0   \n",
                            "2        2.0        2.0     99.0  390000  ...        0        0        0   \n",
                            "3        3.0        1.0     86.0   89000  ...        0        0        0   \n",
                            "4        2.0        2.0    106.0  172000  ...        0        0        0   \n",
                            "...      ...        ...      ...     ...  ...      ...      ...      ...   \n",
                            "15330    2.0        1.0     96.0  259470  ...        0        0        0   \n",
                            "15331    3.0        1.0    150.0  165000  ...        0        0        0   \n",
                            "15332    4.0        2.0    175.0  495000  ...        0        0        0   \n",
                            "15333    3.0        2.0    101.0  195000  ...        0        0        0   \n",
                            "15334    3.0        2.0    152.0  765000  ...        0        0        0   \n",
                            "\n",
                            "      level7Id level8Id accuracy          latitude          longitude zipCode  \\\n",
                            "0            0        0        0  40,2948276786438  -3,44402412135624     0.0   \n",
                            "1            0        0        1          40,28674           -3,79351     0.0   \n",
                            "2            0        0        0  40,4115646786438  -3,90662252135624     0.0   \n",
                            "3            0        0        0  40,2853785786438  -3,79508142135624     0.0   \n",
                            "4            0        0        0  40,2998774864376  -3,45226301356237     0.0   \n",
                            "...        ...      ...      ...               ...                ...     ...   \n",
                            "15330        0        0        0          40,45416           -3,70286     0.0   \n",
                            "15331        0        0        0          40,36652           -3,48951     0.0   \n",
                            "15332        0        0        0          40,57444           -3,92124     0.0   \n",
                            "15333        0        0        0          40,36967           -3,48105     0.0   \n",
                            "15334        0        0        0          40,45773           -3,69068     0.0   \n",
                            "\n",
                            "      customZone  \n",
                            "0            0.0  \n",
                            "1            0.0  \n",
                            "2            0.0  \n",
                            "3            0.0  \n",
                            "4            0.0  \n",
                            "...          ...  \n",
                            "15330        0.0  \n",
                            "15331        0.0  \n",
                            "15332        0.0  \n",
                            "15333        0.0  \n",
                            "15334        0.0  \n",
                            "\n",
                            "[15335 rows x 37 columns]"
                        ]
                    },
                    "execution_count": 60,
                    "metadata": {},
                    "output_type": "execute_result"
                }
            ],
            "source": [
                "df.drop_duplicates()  # Eliminar duplicados\n",
                "df.fillna(0)  # Reemplazar valores nulos por 0"
            ]
        },
        {
            "cell_type": "markdown",
            "metadata": {},
            "source": [
                "## Operaciones estadísticas\n",
                "\n",
                "Pandas incluye funciones como mean(), sum(), y describe() para hacer resúmenes estadísticos.\n",
                "\n",
                "Ejemplo:"
            ]
        },
        {
            "cell_type": "code",
            "execution_count": 9,
            "metadata": {},
            "outputs": [
                {
                    "data": {
                        "text/html": [
                            "<div>\n",
                            "<style scoped>\n",
                            "    .dataframe tbody tr th:only-of-type {\n",
                            "        vertical-align: middle;\n",
                            "    }\n",
                            "\n",
                            "    .dataframe tbody tr th {\n",
                            "        vertical-align: top;\n",
                            "    }\n",
                            "\n",
                            "    .dataframe thead th {\n",
                            "        text-align: right;\n",
                            "    }\n",
                            "</style>\n",
                            "<table border=\"1\" class=\"dataframe\">\n",
                            "  <thead>\n",
                            "    <tr style=\"text-align: right;\">\n",
                            "      <th></th>\n",
                            "      <th>Unnamed: 0</th>\n",
                            "      <th>id_realEstates</th>\n",
                            "      <th>phone_realEstate</th>\n",
                            "      <th>rooms</th>\n",
                            "      <th>bathrooms</th>\n",
                            "      <th>surface</th>\n",
                            "      <th>price</th>\n",
                            "      <th>countryId</th>\n",
                            "      <th>level1Id</th>\n",
                            "      <th>level2Id</th>\n",
                            "      <th>level3Id</th>\n",
                            "      <th>level4Id</th>\n",
                            "      <th>level5Id</th>\n",
                            "      <th>level6Id</th>\n",
                            "      <th>level7Id</th>\n",
                            "      <th>level8Id</th>\n",
                            "      <th>accuracy</th>\n",
                            "      <th>zipCode</th>\n",
                            "      <th>customZone</th>\n",
                            "    </tr>\n",
                            "  </thead>\n",
                            "  <tbody>\n",
                            "    <tr>\n",
                            "      <th>count</th>\n",
                            "      <td>15335.000000</td>\n",
                            "      <td>1.533500e+04</td>\n",
                            "      <td>1.454100e+04</td>\n",
                            "      <td>14982.000000</td>\n",
                            "      <td>14990.000000</td>\n",
                            "      <td>14085.000000</td>\n",
                            "      <td>1.533500e+04</td>\n",
                            "      <td>15335.0</td>\n",
                            "      <td>15335.0</td>\n",
                            "      <td>15335.0</td>\n",
                            "      <td>15335.0</td>\n",
                            "      <td>15335.0</td>\n",
                            "      <td>15335.0</td>\n",
                            "      <td>15335.0</td>\n",
                            "      <td>15335.0</td>\n",
                            "      <td>15335.0</td>\n",
                            "      <td>15335.000000</td>\n",
                            "      <td>0.0</td>\n",
                            "      <td>0.0</td>\n",
                            "    </tr>\n",
                            "    <tr>\n",
                            "      <th>mean</th>\n",
                            "      <td>7668.000000</td>\n",
                            "      <td>1.524371e+08</td>\n",
                            "      <td>9.143423e+08</td>\n",
                            "      <td>3.231611</td>\n",
                            "      <td>2.150233</td>\n",
                            "      <td>196.916436</td>\n",
                            "      <td>4.773036e+05</td>\n",
                            "      <td>0.0</td>\n",
                            "      <td>0.0</td>\n",
                            "      <td>0.0</td>\n",
                            "      <td>0.0</td>\n",
                            "      <td>0.0</td>\n",
                            "      <td>0.0</td>\n",
                            "      <td>0.0</td>\n",
                            "      <td>0.0</td>\n",
                            "      <td>0.0</td>\n",
                            "      <td>0.166873</td>\n",
                            "      <td>NaN</td>\n",
                            "      <td>NaN</td>\n",
                            "    </tr>\n",
                            "    <tr>\n",
                            "      <th>std</th>\n",
                            "      <td>4426.977524</td>\n",
                            "      <td>2.277286e+06</td>\n",
                            "      <td>7.516036e+06</td>\n",
                            "      <td>1.393106</td>\n",
                            "      <td>1.292079</td>\n",
                            "      <td>2182.758313</td>\n",
                            "      <td>5.912942e+05</td>\n",
                            "      <td>0.0</td>\n",
                            "      <td>0.0</td>\n",
                            "      <td>0.0</td>\n",
                            "      <td>0.0</td>\n",
                            "      <td>0.0</td>\n",
                            "      <td>0.0</td>\n",
                            "      <td>0.0</td>\n",
                            "      <td>0.0</td>\n",
                            "      <td>0.0</td>\n",
                            "      <td>0.372875</td>\n",
                            "      <td>NaN</td>\n",
                            "      <td>NaN</td>\n",
                            "    </tr>\n",
                            "    <tr>\n",
                            "      <th>min</th>\n",
                            "      <td>1.000000</td>\n",
                            "      <td>1.221584e+08</td>\n",
                            "      <td>8.762742e+08</td>\n",
                            "      <td>1.000000</td>\n",
                            "      <td>1.000000</td>\n",
                            "      <td>15.000000</td>\n",
                            "      <td>0.000000e+00</td>\n",
                            "      <td>0.0</td>\n",
                            "      <td>0.0</td>\n",
                            "      <td>0.0</td>\n",
                            "      <td>0.0</td>\n",
                            "      <td>0.0</td>\n",
                            "      <td>0.0</td>\n",
                            "      <td>0.0</td>\n",
                            "      <td>0.0</td>\n",
                            "      <td>0.0</td>\n",
                            "      <td>0.000000</td>\n",
                            "      <td>NaN</td>\n",
                            "      <td>NaN</td>\n",
                            "    </tr>\n",
                            "    <tr>\n",
                            "      <th>25%</th>\n",
                            "      <td>3834.500000</td>\n",
                            "      <td>1.519456e+08</td>\n",
                            "      <td>9.113649e+08</td>\n",
                            "      <td>2.000000</td>\n",
                            "      <td>1.000000</td>\n",
                            "      <td>80.000000</td>\n",
                            "      <td>1.690000e+05</td>\n",
                            "      <td>0.0</td>\n",
                            "      <td>0.0</td>\n",
                            "      <td>0.0</td>\n",
                            "      <td>0.0</td>\n",
                            "      <td>0.0</td>\n",
                            "      <td>0.0</td>\n",
                            "      <td>0.0</td>\n",
                            "      <td>0.0</td>\n",
                            "      <td>0.0</td>\n",
                            "      <td>0.000000</td>\n",
                            "      <td>NaN</td>\n",
                            "      <td>NaN</td>\n",
                            "    </tr>\n",
                            "    <tr>\n",
                            "      <th>50%</th>\n",
                            "      <td>7668.000000</td>\n",
                            "      <td>1.532413e+08</td>\n",
                            "      <td>9.121841e+08</td>\n",
                            "      <td>3.000000</td>\n",
                            "      <td>2.000000</td>\n",
                            "      <td>114.000000</td>\n",
                            "      <td>2.800000e+05</td>\n",
                            "      <td>0.0</td>\n",
                            "      <td>0.0</td>\n",
                            "      <td>0.0</td>\n",
                            "      <td>0.0</td>\n",
                            "      <td>0.0</td>\n",
                            "      <td>0.0</td>\n",
                            "      <td>0.0</td>\n",
                            "      <td>0.0</td>\n",
                            "      <td>0.0</td>\n",
                            "      <td>0.000000</td>\n",
                            "      <td>NaN</td>\n",
                            "      <td>NaN</td>\n",
                            "    </tr>\n",
                            "    <tr>\n",
                            "      <th>75%</th>\n",
                            "      <td>11501.500000</td>\n",
                            "      <td>1.538105e+08</td>\n",
                            "      <td>9.148904e+08</td>\n",
                            "      <td>4.000000</td>\n",
                            "      <td>3.000000</td>\n",
                            "      <td>205.000000</td>\n",
                            "      <td>5.400000e+05</td>\n",
                            "      <td>0.0</td>\n",
                            "      <td>0.0</td>\n",
                            "      <td>0.0</td>\n",
                            "      <td>0.0</td>\n",
                            "      <td>0.0</td>\n",
                            "      <td>0.0</td>\n",
                            "      <td>0.0</td>\n",
                            "      <td>0.0</td>\n",
                            "      <td>0.0</td>\n",
                            "      <td>0.000000</td>\n",
                            "      <td>NaN</td>\n",
                            "      <td>NaN</td>\n",
                            "    </tr>\n",
                            "    <tr>\n",
                            "      <th>max</th>\n",
                            "      <td>15335.000000</td>\n",
                            "      <td>1.540033e+08</td>\n",
                            "      <td>9.887761e+08</td>\n",
                            "      <td>30.000000</td>\n",
                            "      <td>20.000000</td>\n",
                            "      <td>249000.000000</td>\n",
                            "      <td>8.500000e+06</td>\n",
                            "      <td>0.0</td>\n",
                            "      <td>0.0</td>\n",
                            "      <td>0.0</td>\n",
                            "      <td>0.0</td>\n",
                            "      <td>0.0</td>\n",
                            "      <td>0.0</td>\n",
                            "      <td>0.0</td>\n",
                            "      <td>0.0</td>\n",
                            "      <td>0.0</td>\n",
                            "      <td>1.000000</td>\n",
                            "      <td>NaN</td>\n",
                            "      <td>NaN</td>\n",
                            "    </tr>\n",
                            "  </tbody>\n",
                            "</table>\n",
                            "</div>"
                        ],
                        "text/plain": [
                            "         Unnamed: 0  id_realEstates  phone_realEstate         rooms  \\\n",
                            "count  15335.000000    1.533500e+04      1.454100e+04  14982.000000   \n",
                            "mean    7668.000000    1.524371e+08      9.143423e+08      3.231611   \n",
                            "std     4426.977524    2.277286e+06      7.516036e+06      1.393106   \n",
                            "min        1.000000    1.221584e+08      8.762742e+08      1.000000   \n",
                            "25%     3834.500000    1.519456e+08      9.113649e+08      2.000000   \n",
                            "50%     7668.000000    1.532413e+08      9.121841e+08      3.000000   \n",
                            "75%    11501.500000    1.538105e+08      9.148904e+08      4.000000   \n",
                            "max    15335.000000    1.540033e+08      9.887761e+08     30.000000   \n",
                            "\n",
                            "          bathrooms        surface         price  countryId  level1Id  \\\n",
                            "count  14990.000000   14085.000000  1.533500e+04    15335.0   15335.0   \n",
                            "mean       2.150233     196.916436  4.773036e+05        0.0       0.0   \n",
                            "std        1.292079    2182.758313  5.912942e+05        0.0       0.0   \n",
                            "min        1.000000      15.000000  0.000000e+00        0.0       0.0   \n",
                            "25%        1.000000      80.000000  1.690000e+05        0.0       0.0   \n",
                            "50%        2.000000     114.000000  2.800000e+05        0.0       0.0   \n",
                            "75%        3.000000     205.000000  5.400000e+05        0.0       0.0   \n",
                            "max       20.000000  249000.000000  8.500000e+06        0.0       0.0   \n",
                            "\n",
                            "       level2Id  level3Id  level4Id  level5Id  level6Id  level7Id  level8Id  \\\n",
                            "count   15335.0   15335.0   15335.0   15335.0   15335.0   15335.0   15335.0   \n",
                            "mean        0.0       0.0       0.0       0.0       0.0       0.0       0.0   \n",
                            "std         0.0       0.0       0.0       0.0       0.0       0.0       0.0   \n",
                            "min         0.0       0.0       0.0       0.0       0.0       0.0       0.0   \n",
                            "25%         0.0       0.0       0.0       0.0       0.0       0.0       0.0   \n",
                            "50%         0.0       0.0       0.0       0.0       0.0       0.0       0.0   \n",
                            "75%         0.0       0.0       0.0       0.0       0.0       0.0       0.0   \n",
                            "max         0.0       0.0       0.0       0.0       0.0       0.0       0.0   \n",
                            "\n",
                            "           accuracy  zipCode  customZone  \n",
                            "count  15335.000000      0.0         0.0  \n",
                            "mean       0.166873      NaN         NaN  \n",
                            "std        0.372875      NaN         NaN  \n",
                            "min        0.000000      NaN         NaN  \n",
                            "25%        0.000000      NaN         NaN  \n",
                            "50%        0.000000      NaN         NaN  \n",
                            "75%        0.000000      NaN         NaN  \n",
                            "max        1.000000      NaN         NaN  "
                        ]
                    },
                    "execution_count": 9,
                    "metadata": {},
                    "output_type": "execute_result"
                }
            ],
            "source": [
                "df.describe()  # Resumen estadístico de todas las columnas numéricas\n"
            ]
        },
        {
            "cell_type": "code",
            "execution_count": 52,
            "metadata": {},
            "outputs": [
                {
                    "data": {
                        "text/plain": [
                            "np.float64(3.2316112668535575)"
                        ]
                    },
                    "execution_count": 52,
                    "metadata": {},
                    "output_type": "execute_result"
                }
            ],
            "source": [
                "df[\"rooms\"].mean()"
            ]
        },
        {
            "cell_type": "code",
            "execution_count": 53,
            "metadata": {},
            "outputs": [
                {
                    "data": {
                        "text/plain": [
                            "np.float64(48416.0)"
                        ]
                    },
                    "execution_count": 53,
                    "metadata": {},
                    "output_type": "execute_result"
                }
            ],
            "source": [
                "df[\"rooms\"].sum()"
            ]
        },
        {
            "cell_type": "markdown",
            "metadata": {},
            "source": [
                "# Introducción a Matplotlib\n",
                "\n",
                "¿Qué es Matplotlib?\n",
                "\n",
                "Matplotlib es una librería de Python que permite crear gráficos y visualizaciones de datos.\n",
                "\n",
                "Crear gráficos básicos\n",
                "\n",
                "Gráfico de líneas:"
            ]
        },
        {
            "cell_type": "code",
            "execution_count": 41,
            "metadata": {},
            "outputs": [
                {
                    "data": {
                        "image/png": "[encoded data removed]",
                        "text/plain": [
                            "<Figure size 640x480 with 1 Axes>"
                        ]
                    },
                    "metadata": {},
                    "output_type": "display_data"
                }
            ],
            "source": [
                "import matplotlib.pyplot as plt\n",
                "\n",
                "x = [1, 2, 3, 4]\n",
                "y = [10, 20, 25, 30]\n",
                "\n",
                "plt.plot(x, y)\n",
                "plt.title('Gráfico de líneas')\n",
                "plt.xlabel('Eje X')\n",
                "plt.ylabel('Eje Y')\n",
                "plt.show()"
            ]
        },
        {
            "cell_type": "markdown",
            "metadata": {},
            "source": [
                "Histograma:"
            ]
        },
        {
            "cell_type": "code",
            "execution_count": 43,
            "metadata": {},
            "outputs": [
                {
                    "data": {
                        "image/png": "[encoded data removed]",
                        "text/plain": [
                            "<Figure size 640x480 with 1 Axes>"
                        ]
                    },
                    "metadata": {},
                    "output_type": "display_data"
                }
            ],
            "source": [
                "data = [1, 1, 2, 2, 2, 3, 4, 4, 5]\n",
                "plt.hist(data, bins=9)\n",
                "plt.title('Histograma')\n",
                "plt.show()\n"
            ]
        },
        {
            "cell_type": "code",
            "execution_count": 27,
            "metadata": {},
            "outputs": [
                {
                    "data": {
                        "image/png": "[encoded data removed]",
                        "text/plain": [
                            "<Figure size 640x480 with 1 Axes>"
                        ]
                    },
                    "metadata": {},
                    "output_type": "display_data"
                }
            ],
            "source": [
                "import matplotlib.pyplot as plt\n",
                "\n",
                "plt.hist(df[\"rooms\"], bins=30)  # Crea el histograma usando los datos de la columna 'rooms' y 10 bins\n",
                "plt.xlabel(\"Rooms\")  # Etiqueta del eje x\n",
                "plt.ylabel(\"Frequency\")  # Etiqueta del eje y (opcional)\n",
                "plt.show()  # Muestra el gráfico"
            ]
        },
        {
            "cell_type": "code",
            "execution_count": 11,
            "metadata": {},
            "outputs": [
                {
                    "data": {
                        "image/png": "[encoded data removed]",
                        "text/plain": [
                            "<Figure size 1000x700 with 6 Axes>"
                        ]
                    },
                    "metadata": {},
                    "output_type": "display_data"
                }
            ],
            "source": [
                "import matplotlib.pyplot as plt\n",
                "import seaborn as sns\n",
                "\n",
                "fig, axis = plt.subplots(2, 3, figsize = (10, 7))\n",
                "\n",
                "# Crear un histograma múltiple\n",
                "sns.histplot(ax = axis[0, 0], data = df, x = \"rooms\")\n",
                "sns.histplot(ax = axis[0, 1], data = df, x = \"bathrooms\").set(ylabel = None)\n",
                "sns.histplot(ax = axis[0, 2], data = df, x = \"surface\").set(ylabel = None)\n",
                "sns.histplot(ax = axis[1, 0], data = df, x = \"price\")\n",
                "sns.histplot(ax = axis[1, 1], data = df, x = \"isNew\").set(ylabel = None)\n",
                "sns.histplot(ax = axis[1, 2], data = df, x = \"level5\").set(ylabel = None)\n",
                "\n",
                "# Ajustar el layout\n",
                "plt.tight_layout()\n",
                "\n",
                "# Mostrar el plot\n",
                "plt.show()"
            ]
        },
        {
            "cell_type": "markdown",
            "metadata": {},
            "source": [
                "# Clase 5 del prework"
            ]
        },
        {
            "cell_type": "markdown",
            "metadata": {},
            "source": [
                "## Git y Github"
            ]
        },
        {
            "cell_type": "markdown",
            "metadata": {},
            "source": [
                "### ¿Qué es Git? \n",
                "Git es un sistema de control de versiones distribuido que te permite rastrear los cambios en tu código a lo largo del tiempo."
            ]
        },
        {
            "cell_type": "markdown",
            "metadata": {},
            "source": [
                "### ¿Qué es GitHub? \n",
                "GitHub es una plataforma basada en la web que utiliza Git para almacenar, gestionar y colaborar en proyectos de software. Esencialmente, GitHub aloja tus repositorios Git y proporciona una interfaz fácil de usar para colaborar con otros, gestionar ramas, revisar el código, hacer \"forks\" de proyectos y mucho más."
            ]
        },
        {
            "cell_type": "markdown",
            "metadata": {},
            "source": [
                "### Importancia de Git para el desarrollo colaborativo"
            ]
        },
        {
            "cell_type": "markdown",
            "metadata": {},
            "source": [
                "Imagina que trabajas en un proyecto de data science con otros científicos de datos. Sin un sistema como Git, sería muy difícil coordinar los cambios sin sobreescribir el trabajo de otros. Git te permite:\n",
                "\n",
                "**Colaborar eficientemente:** Todos pueden trabajar en distintas partes del código simultáneamente.\n",
                "\n",
                "**Rastrear el historial de cambios:** Puedes ver quién hizo qué cambios y cuándo.\n",
                "\n",
                "**Recuperar versiones anteriores:** Si algo sale mal, puedes retroceder a versiones previas del proyecto.\n"
            ]
        },
        {
            "cell_type": "markdown",
            "metadata": {},
            "source": [
                "## Conceptos Básicos de Git\n",
                "\n",
                "Antes de sumergirnos en el uso de Git, es importante entender algunos conceptos fundamentales:\n",
                "\n",
                "**Repositorio:** Es una carpeta que contiene todos los archivos y el historial de versiones de tu proyecto. Puedes tener un repositorio local (en tu computadora) y uno remoto (en GitHub).\n",
                "\n",
                "**Commit:** Un commit es como un \"punto de control\" que guarda el estado actual del proyecto. Cada vez que haces un commit, Git guarda un snapshot de los cambios que realizaste.\n",
                "\n",
                "**Rama (Branch):** Una rama es una versión del proyecto en la que puedes trabajar de manera aislada sin afectar la rama principal (generalmente llamada main o master). Esto permite que varios colaboradores trabajen en diferentes características simultáneamente."
            ]
        },
        {
            "cell_type": "markdown",
            "metadata": {},
            "source": [
                "## Añadir, Confirmar y Enviar Cambios"
            ]
        },
        {
            "cell_type": "markdown",
            "metadata": {},
            "source": [
                "Añadir archivos al área de preparación:"
            ]
        },
        {
            "cell_type": "code",
            "execution_count": null,
            "metadata": {},
            "outputs": [],
            "source": [
                "git add nombre_del_archivo\n",
                "\n",
                "git add .\n"
            ]
        },
        {
            "cell_type": "markdown",
            "metadata": {},
            "source": [
                "Confirmar cambios (commit): Cuando confirmas los cambios, estás creando un punto en el historial que guarda el estado actual de tu proyecto."
            ]
        },
        {
            "cell_type": "code",
            "execution_count": null,
            "metadata": {},
            "outputs": [],
            "source": [
                "git commit -m \"Mensaje que describe los cambios\"\n"
            ]
        },
        {
            "cell_type": "markdown",
            "metadata": {},
            "source": [
                "Enviar los cambios al repositorio remoto (push): Una vez que has confirmado tus cambios, puedes enviarlos al repositorio remoto en GitHub:"
            ]
        },
        {
            "cell_type": "code",
            "execution_count": null,
            "metadata": {},
            "outputs": [],
            "source": [
                "git push origin main\n"
            ]
        },
        {
            "cell_type": "markdown",
            "metadata": {},
            "source": [
                "Verificar la rama actual"
            ]
        },
        {
            "cell_type": "code",
            "execution_count": null,
            "metadata": {},
            "outputs": [],
            "source": [
                "git branch\n"
            ]
        },
        {
            "cell_type": "markdown",
            "metadata": {},
            "source": [
                "Crear una nueva rama: Para crear una nueva rama, utiliza el comando:"
            ]
        },
        {
            "cell_type": "code",
            "execution_count": null,
            "metadata": {},
            "outputs": [],
            "source": [
                "git branch nombre_de_la_rama\n"
            ]
        },
        {
            "cell_type": "markdown",
            "metadata": {},
            "source": [
                "Cambiar a la nueva rama: Una vez que la rama ha sido creada, debes moverte a ella para comenzar a trabajar en esa rama:"
            ]
        },
        {
            "cell_type": "code",
            "execution_count": null,
            "metadata": {},
            "outputs": [],
            "source": [
                "git checkout nombre_de_la_rama"
            ]
        },
        {
            "cell_type": "markdown",
            "metadata": {},
            "source": [
                "Subir la nueva rama al repositorio remoto (GitHub): Para subir tu nueva rama al repositorio en GitHub, utiliza el comando:"
            ]
        },
        {
            "cell_type": "code",
            "execution_count": null,
            "metadata": {},
            "outputs": [],
            "source": [
                "git push origin nombre_de_la_rama"
            ]
        },
        {
            "cell_type": "markdown",
            "metadata": {},
            "source": [
                "Cambiar de vuelta a otra rama (por ejemplo, main o master): Si quieres volver a la rama principal después de terminar tu trabajo en la nueva rama, usa:"
            ]
        },
        {
            "cell_type": "code",
            "execution_count": null,
            "metadata": {},
            "outputs": [],
            "source": [
                "git checkout main\n"
            ]
        },
        {
            "cell_type": "markdown",
            "metadata": {},
            "source": [
                "Unir la nueva rama con la rama principal (merge):"
            ]
        },
        {
            "cell_type": "code",
            "execution_count": null,
            "metadata": {},
            "outputs": [],
            "source": [
                "git merge nombre_de_la_rama #hay que estar en la rama principal(\"main\") antes de fusionar (\"merge\") con la rama secundaria\n"
            ]
        }
    ],
    "metadata": {
        "kernelspec": {
            "display_name": "Python 3.8.13 64-bit ('3.8.13')",
            "language": "python",
            "name": "python3"
        },
        "language_info": {
            "codemirror_mode": {
                "name": "ipython",
                "version": 3
            },
            "file_extension": ".py",
            "mimetype": "text/x-python",
            "name": "python",
            "nbconvert_exporter": "python",
            "pygments_lexer": "ipython3",
            "version": "3.11.4"
        },
        "orig_nbformat": 4,
        "vscode": {
            "interpreter": {
                "hash": "110cc1dee26208153f2972f08a2ad52b6a56238dc66d48e87fb757ef2996db56"
            }
        }
    },
    "nbformat": 4,
    "nbformat_minor": 2
}
