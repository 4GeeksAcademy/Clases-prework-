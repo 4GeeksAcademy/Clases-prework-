{
    "cells": [
        {
            "cell_type": "markdown",
            "metadata": {},
            "source": [
                "# Clase 2 del prework"
            ]
        },
        {
            "cell_type": "code",
            "execution_count": 2,
            "metadata": {},
            "outputs": [
                {
                    "name": "stdout",
                    "output_type": "stream",
                    "text": [
                        "hello\n"
                    ]
                }
            ],
            "source": [
                "print(\"hello\")"
            ]
        },
        {
            "cell_type": "markdown",
            "metadata": {},
            "source": [
                "¿Qué es una lista? ¿Cómo la declaro?\n",
                "Lista: Es una colección ordenada y mutable de elementos, que pueden ser de cualquier tipo de dato (números, cadenas, objetos, etc.). A diferencia de otros lenguajes, en Python las listas permiten almacenar diferentes tipos de datos dentro de la misma colección."
            ]
        },
        {
            "cell_type": "code",
            "execution_count": 2,
            "metadata": {},
            "outputs": [],
            "source": [
                "# Lista vacía\n",
                "mi_lista = []\n",
                "\n",
                "# Lista con elementos\n",
                "mi_lista = [1, 2, 3, \"texto\", 5.6]"
            ]
        },
        {
            "cell_type": "markdown",
            "metadata": {},
            "source": [
                "Puedes acceder a los elementos de una lista mediante índices. En Python, los índices empiezan desde 0."
            ]
        },
        {
            "cell_type": "code",
            "execution_count": 3,
            "metadata": {},
            "outputs": [
                {
                    "name": "stdout",
                    "output_type": "stream",
                    "text": [
                        "10\n",
                        "30\n"
                    ]
                }
            ],
            "source": [
                "mi_lista = [10, 20, 30, 40, 50]\n",
                "\n",
                "# Acceder al primer elemento (índice 0)\n",
                "print(mi_lista[0])  \n",
                "\n",
                "# Acceder al tercer elemento (índice 2)\n",
                "print(mi_lista[2])  "
            ]
        },
        {
            "cell_type": "markdown",
            "metadata": {},
            "source": [
                "Índices negativos: En Python, los índices negativos te permiten acceder a los elementos desde el final de la lista."
            ]
        },
        {
            "cell_type": "code",
            "execution_count": 5,
            "metadata": {},
            "outputs": [
                {
                    "name": "stdout",
                    "output_type": "stream",
                    "text": [
                        "50\n",
                        "40\n"
                    ]
                }
            ],
            "source": [
                "mi_lista = [10, 20, 30, 40, 50]\n",
                "\n",
                "# Acceder al último elemento (índice -1)\n",
                "print(mi_lista[-1])  \n",
                "\n",
                "# Acceder al penúltimo elemento (índice -2)\n",
                "print(mi_lista[-2])"
            ]
        },
        {
            "cell_type": "markdown",
            "metadata": {},
            "source": [
                "## Métodos más importantes para listas"
            ]
        },
        {
            "cell_type": "markdown",
            "metadata": {},
            "source": [
                "append(): Agrega un solo elemento al final de la lista."
            ]
        },
        {
            "cell_type": "code",
            "execution_count": 3,
            "metadata": {},
            "outputs": [
                {
                    "name": "stdout",
                    "output_type": "stream",
                    "text": [
                        "[1, 2, 3, 4]\n"
                    ]
                }
            ],
            "source": [
                "mi_lista = [1, 2, 3]\n",
                "mi_lista.append(4)\n",
                "print(mi_lista)"
            ]
        },
        {
            "cell_type": "markdown",
            "metadata": {},
            "source": [
                "extend(): Agrega varios elementos a la lista"
            ]
        },
        {
            "cell_type": "code",
            "execution_count": 4,
            "metadata": {},
            "outputs": [
                {
                    "name": "stdout",
                    "output_type": "stream",
                    "text": [
                        "[1, 2, 3, 4, 5, 6]\n"
                    ]
                }
            ],
            "source": [
                "mi_lista.extend([5, 6])\n",
                "print(mi_lista)  "
            ]
        },
        {
            "cell_type": "markdown",
            "metadata": {},
            "source": [
                "### Eliminar elementos de la lista"
            ]
        },
        {
            "cell_type": "markdown",
            "metadata": {},
            "source": [
                "pop(): Elimina y devuelve el último elemento de la lista (o el de un índice específico)."
            ]
        },
        {
            "cell_type": "code",
            "execution_count": 8,
            "metadata": {},
            "outputs": [
                {
                    "name": "stdout",
                    "output_type": "stream",
                    "text": [
                        "4\n",
                        "[1, 2]\n"
                    ]
                }
            ],
            "source": [
                "elemento = mi_lista.pop()\n",
                "print(elemento)  \n",
                "print(mi_lista) "
            ]
        },
        {
            "cell_type": "markdown",
            "metadata": {},
            "source": [
                "remove(): Elimina la primera aparición de un elemento específico."
            ]
        },
        {
            "cell_type": "code",
            "execution_count": 11,
            "metadata": {},
            "outputs": [
                {
                    "name": "stdout",
                    "output_type": "stream",
                    "text": [
                        "[1, 2, 4, 5, 6]\n"
                    ]
                }
            ],
            "source": [
                "mi_lista = [1, 2, 3, 4, 5, 6]\n",
                "\n",
                "mi_lista.remove(3)\n",
                "print(mi_lista)  "
            ]
        },
        {
            "cell_type": "markdown",
            "metadata": {},
            "source": [
                "del: Elimina un elemento en un índice específico o toda la lista."
            ]
        },
        {
            "cell_type": "code",
            "execution_count": 12,
            "metadata": {},
            "outputs": [
                {
                    "name": "stdout",
                    "output_type": "stream",
                    "text": [
                        "[1, 4, 5, 6]\n"
                    ]
                }
            ],
            "source": [
                "\n",
                "del mi_lista[1]  # Elimina el segundo elemento\n",
                "print(mi_lista)"
            ]
        },
        {
            "cell_type": "markdown",
            "metadata": {},
            "source": [
                "### Otros métodos útiles"
            ]
        },
        {
            "cell_type": "markdown",
            "metadata": {},
            "source": [
                "len(): Devuelve la longitud de la lista."
            ]
        },
        {
            "cell_type": "code",
            "execution_count": 13,
            "metadata": {},
            "outputs": [],
            "source": [
                "mi_lista = [1, 2, 3, 4, 5, 6]\n"
            ]
        },
        {
            "cell_type": "code",
            "execution_count": 14,
            "metadata": {},
            "outputs": [
                {
                    "name": "stdout",
                    "output_type": "stream",
                    "text": [
                        "6\n"
                    ]
                }
            ],
            "source": [
                "print(len(mi_lista))"
            ]
        },
        {
            "cell_type": "markdown",
            "metadata": {},
            "source": [
                "index(): Devuelve el índice del primer elemento coincidente."
            ]
        },
        {
            "cell_type": "code",
            "execution_count": 15,
            "metadata": {},
            "outputs": [
                {
                    "name": "stdout",
                    "output_type": "stream",
                    "text": [
                        "3\n"
                    ]
                }
            ],
            "source": [
                "print(mi_lista.index(4)) "
            ]
        },
        {
            "cell_type": "markdown",
            "metadata": {},
            "source": [
                "count(): Cuenta cuántas veces aparece un elemento en la lista"
            ]
        },
        {
            "cell_type": "code",
            "execution_count": 16,
            "metadata": {},
            "outputs": [
                {
                    "name": "stdout",
                    "output_type": "stream",
                    "text": [
                        "1\n"
                    ]
                }
            ],
            "source": [
                "mi_lista = [1, 2, 3, 4, 5, 6]\n",
                "\n",
                "print(mi_lista.count(4))"
            ]
        },
        {
            "cell_type": "markdown",
            "metadata": {},
            "source": [
                "sort(): Ordena los elementos de la lista."
            ]
        },
        {
            "cell_type": "code",
            "execution_count": 19,
            "metadata": {},
            "outputs": [
                {
                    "name": "stdout",
                    "output_type": "stream",
                    "text": [
                        "[1, 2, 3, 4]\n"
                    ]
                }
            ],
            "source": [
                "mi_lista = [3, 1, 4, 2]\n",
                "mi_lista.sort()\n",
                "print(mi_lista)"
            ]
        },
        {
            "cell_type": "markdown",
            "metadata": {},
            "source": [
                "reverse(): Invierte el orden de los elementos."
            ]
        },
        {
            "cell_type": "code",
            "execution_count": 20,
            "metadata": {},
            "outputs": [
                {
                    "name": "stdout",
                    "output_type": "stream",
                    "text": [
                        "[4, 3, 2, 1]\n"
                    ]
                }
            ],
            "source": [
                "mi_lista.reverse()\n",
                "print(mi_lista)"
            ]
        },
        {
            "cell_type": "markdown",
            "metadata": {},
            "source": [
                "slice(): Devuelve una porción de la lista (sublista)."
            ]
        },
        {
            "cell_type": "code",
            "execution_count": 21,
            "metadata": {},
            "outputs": [
                {
                    "name": "stdout",
                    "output_type": "stream",
                    "text": [
                        "[3, 2]\n"
                    ]
                }
            ],
            "source": [
                "sub_lista = mi_lista[1:3]  # Elementos en los índices 1 y 2\n",
                "print(sub_lista)  "
            ]
        },
        {
            "cell_type": "markdown",
            "metadata": {},
            "source": [
                "### Listas anidadas"
            ]
        },
        {
            "cell_type": "code",
            "execution_count": 34,
            "metadata": {},
            "outputs": [
                {
                    "name": "stdout",
                    "output_type": "stream",
                    "text": [
                        "3\n",
                        "6\n"
                    ]
                }
            ],
            "source": [
                "lista_anidada = [[1, 2], [3, 4], [5, 6], [7, 8]]\n",
                "\n",
                "# Acceder al primer subelemento de la segunda lista\n",
                "print(lista_anidada[1][0])\n",
                "print(lista_anidada[2][1])"
            ]
        },
        {
            "cell_type": "markdown",
            "metadata": {},
            "source": [
                "###  Iteración sobre listas (loop)"
            ]
        },
        {
            "cell_type": "code",
            "execution_count": 23,
            "metadata": {},
            "outputs": [
                {
                    "name": "stdout",
                    "output_type": "stream",
                    "text": [
                        "10\n",
                        "20\n",
                        "30\n",
                        "40\n"
                    ]
                }
            ],
            "source": [
                "mi_lista = [10, 20, 30, 40]\n",
                "\n",
                "for elemento in mi_lista:\n",
                "    print(elemento)"
            ]
        },
        {
            "cell_type": "markdown",
            "metadata": {},
            "source": [
                "Usamos la función enumerate() para acceder al índice y al valor de cada elemento."
            ]
        },
        {
            "cell_type": "code",
            "execution_count": 24,
            "metadata": {},
            "outputs": [
                {
                    "name": "stdout",
                    "output_type": "stream",
                    "text": [
                        "Índice: 0, Valor: a\n",
                        "Índice: 1, Valor: b\n",
                        "Índice: 2, Valor: c\n",
                        "Índice: 3, Valor: d\n"
                    ]
                }
            ],
            "source": [
                "mi_lista = ['a', 'b', 'c', 'd']\n",
                "\n",
                "for indice, valor in enumerate(mi_lista):\n",
                "    print(f\"Índice: {indice}, Valor: {valor}\")\n"
            ]
        },
        {
            "cell_type": "code",
            "execution_count": 26,
            "metadata": {},
            "outputs": [
                {
                    "name": "stdout",
                    "output_type": "stream",
                    "text": [
                        "Mi nombre es Fernando\n"
                    ]
                }
            ],
            "source": [
                "nombre = \"Fernando\"\n",
                "print(f\"Mi nombre es {nombre}\")"
            ]
        },
        {
            "cell_type": "markdown",
            "metadata": {},
            "source": [
                "Este ejemplo utiliza un bucle for para sumar los elementos de una lista de números."
            ]
        },
        {
            "cell_type": "code",
            "execution_count": 29,
            "metadata": {},
            "outputs": [
                {
                    "name": "stdout",
                    "output_type": "stream",
                    "text": [
                        "La suma total es: 15\n"
                    ]
                }
            ],
            "source": [
                "numeros = [1, 2, 3, 4, 5]\n",
                "suma = 0\n",
                "\n",
                "for numero in numeros:\n",
                "    suma += numero\n",
                "\n",
                "print(f\"La suma total es: {suma}\")"
            ]
        },
        {
            "cell_type": "markdown",
            "metadata": {},
            "source": [
                "Aquí iteramos sobre una lista que contiene otras listas. Usamos un bucle anidado para acceder a cada elemento."
            ]
        },
        {
            "cell_type": "code",
            "execution_count": 30,
            "metadata": {},
            "outputs": [
                {
                    "name": "stdout",
                    "output_type": "stream",
                    "text": [
                        "1\n",
                        "2\n",
                        "3\n",
                        "4\n",
                        "5\n",
                        "6\n"
                    ]
                }
            ],
            "source": [
                "lista_anidada = [[1, 2], [3, 4], [5, 6]]\n",
                "\n",
                "for sub_lista in lista_anidada:\n",
                "    for elemento in sub_lista:\n",
                "        print(elemento)"
            ]
        },
        {
            "cell_type": "markdown",
            "metadata": {},
            "source": [
                "Este ejemplo recorre una lista de números y crea una nueva lista solo con los números pares.\n",
                "\n"
            ]
        },
        {
            "cell_type": "code",
            "execution_count": 33,
            "metadata": {},
            "outputs": [
                {
                    "name": "stdout",
                    "output_type": "stream",
                    "text": [
                        "Números pares: [15, 25]\n"
                    ]
                }
            ],
            "source": [
                "numeros = [10, 15, 20, 25, 30]\n",
                "pares = []\n",
                "\n",
                "for numero in numeros:\n",
                "    if numero % 2 != 0:\n",
                "        pares.append(numero)\n",
                "\n",
                "print(f\"Números pares: {impares}\")"
            ]
        },
        {
            "cell_type": "code",
            "execution_count": null,
            "metadata": {},
            "outputs": [],
            "source": [
                "numeros = [10, 15 , 20, 25, 30]\n",
                "pares = []\n",
                "impares = []\n",
                "numeroloco = []\n",
                "\n",
                "for numero in numeros:\n",
                "    if numero % 2 == 0: #si es divisible entre dos e igual a cero\n",
                "      pares.append(numero)\n",
                "    elif numero % 2 != 0:\n",
                "      impares.append()\n",
                "    else:\n",
                "       numeroloco.append()\n",
                "      \n",
                "print(f'Números pares: {pares} y números impares: {impares}')"
            ]
        },
        {
            "cell_type": "code",
            "execution_count": 14,
            "metadata": {},
            "outputs": [
                {
                    "data": {
                        "text/html": [
                            "<img src=\"https://www.proferecursos.com/wp-content/uploads/Partes-de-la-Division.jpg\"/>"
                        ],
                        "text/plain": [
                            "<IPython.core.display.Image object>"
                        ]
                    },
                    "metadata": {},
                    "output_type": "display_data"
                }
            ],
            "source": [
                "from IPython.display import Image, display\n",
                "\n",
                "# URL de la imagen de internet\n",
                "url_imagen = \"https://www.proferecursos.com/wp-content/uploads/Partes-de-la-Division.jpg\"\n",
                "\n",
                "# Mostrar la imagen\n",
                "display(Image(url=url_imagen))"
            ]
        }
    ],
    "metadata": {
        "kernelspec": {
            "display_name": "Python 3.8.13 64-bit ('3.8.13')",
            "language": "python",
            "name": "python3"
        },
        "language_info": {
            "codemirror_mode": {
                "name": "ipython",
                "version": 3
            },
            "file_extension": ".py",
            "mimetype": "text/x-python",
            "name": "python",
            "nbconvert_exporter": "python",
            "pygments_lexer": "ipython3",
            "version": "3.11.4"
        },
        "orig_nbformat": 4,
        "vscode": {
            "interpreter": {
                "hash": "110cc1dee26208153f2972f08a2ad52b6a56238dc66d48e87fb757ef2996db56"
            }
        }
    },
    "nbformat": 4,
    "nbformat_minor": 2
}
